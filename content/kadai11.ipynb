{
  "cells": [
    {
      "cell_type": "markdown",
      "metadata": {
        "id": "l0XUZT1sBsiZ"
      },
      "source": [
        "# コンピュータの言語2024：課題11 「再帰による描画とクイックソート」\n",
        "\n",
        "## はじめに\n",
        "\n",
        "前回の授業では，ソート（並べ替え）についての２つのアルゴリズムを紹介しました．選択ソートについては課題で勉強してもらいましたが，より効率の良い__クイックソート__については，簡単に「再帰」というもので実現されるということだけを伝えました．今回の課題では，再帰の考え方に慣れ，クイックソートを理解することを目標にします．\n",
        "\n",
        "今回の目的は\n",
        "\n",
        "* 簡単なプログラム学習ツールの体験\n",
        "* 「 __再帰 (recursive）__ 」という考え方を理解する\n",
        "* クイックソートのアルゴリズムを理解する\n",
        "\n",
        "です．\n",
        "\n",
        "## Hour of Code\n",
        "\n",
        "最近，世界的に小学生からプログラムを学習を始めようという流れが出てきています．\n",
        "\n",
        "* [Hour of Code - WORLDWIDE](https://youtu.be/2DxWIxec6yo)\n",
        "* [\"Code Stars\" - Short Film](https://youtu.be/dU1xS07N-FA)\n",
        "* [What is Creativity?](https://youtu.be/VYqHGIR7a_k)\n",
        "\n",
        "[このサイト](http://hourofcode.com/jp/) には様々な学習教材があります．ブロックで組み上げることでプログラムすることができるビジュアルプログラミング言語 [Scratch](http://scratch.mit.edu) が使われています．\n",
        "\n",
        "今回は，まずこの Scratch を通して，初等教育におけるプログラミング教育の最前線を体験してみるために，以下のチュートリアルを１５回目までやってみてください．\n",
        "\n",
        "[魔法と氷の美しさを探検するアナとエルザと一緒にコードを使いましょう](http://studio.code.org/s/frozen/stage/1/puzzle/1)\n",
        "\n",
        "## Python: turtle\n",
        "\n",
        "さて，アナとエルザで\n",
        "\n",
        "* まえに動く\n",
        "* 後ろに動く\n",
        "* 右に向く\n",
        "* 左に向く\n",
        "* 繰り返し\n",
        "\n",
        "などのブロックに慣れたと思います．これを Python でやってみましょう．同じようにキャラクターが動いて絵を描くツールとして，Python には turtle というライブラリが用意されています．turtle はカメですね．カメのキャラクターが Python の命令で動きます．ただし，google colab では turtle をアニメーションとして動かすことができないため，turtle を動かすことができません．その代わりに 最近，ColabTurtle というライブラリが作成されました．これをまずインストールしましょう．"
      ]
    },
    {
      "cell_type": "code",
      "execution_count": 2,
      "metadata": {
        "id": "HLlnj4yAB1X_",
        "colab": {
          "base_uri": "https://localhost:8080/"
        },
        "outputId": "9a559eee-8fec-497b-e2f2-1feb42eaf090"
      },
      "outputs": [
        {
          "output_type": "stream",
          "name": "stdout",
          "text": [
            "Collecting ColabTurtle\n",
            "  Downloading ColabTurtle-2.1.0.tar.gz (6.8 kB)\n",
            "  Preparing metadata (setup.py) ... \u001b[?25l\u001b[?25hdone\n",
            "Building wheels for collected packages: ColabTurtle\n",
            "  Building wheel for ColabTurtle (setup.py) ... \u001b[?25l\u001b[?25hdone\n",
            "  Created wheel for ColabTurtle: filename=ColabTurtle-2.1.0-py3-none-any.whl size=7642 sha256=db4297a75091aa0c86804c190612d119a3d033711a489ade9b5d7e09b3db3767\n",
            "  Stored in directory: /root/.cache/pip/wheels/5b/86/e8/54f5c8c853606e3a3060bb2e60363cbed632374a12e0f33ffc\n",
            "Successfully built ColabTurtle\n",
            "Installing collected packages: ColabTurtle\n",
            "Successfully installed ColabTurtle-2.1.0\n"
          ]
        }
      ],
      "source": [
        "!pip3 install ColabTurtle\n",
        "import ColabTurtle.Turtle as t"
      ]
    },
    {
      "cell_type": "markdown",
      "metadata": {
        "id": "JIk74qKQKQsL"
      },
      "source": [
        "そして，GoogleColab 用のturtle を動かしてみます．"
      ]
    },
    {
      "cell_type": "code",
      "execution_count": null,
      "metadata": {
        "id": "YcLepBgkB8IX"
      },
      "outputs": [],
      "source": [
        "t.initializeTurtle(initial_speed=5)\n",
        "t.color('orange')  # 色はオレンジ\n",
        "t.bgcolor('white') # 背景は白\n",
        "t.width(2)         # 太さは 2 ピクセル\n",
        "\n",
        "t.forward(50)      # 前に50ピクセル進む\n",
        "t.left(90)         # 左に90度回転する\n",
        "t.forward(50)      # 前に50ピクセル進む\n",
        "t.left(90)         # 左に90度回転する"
      ]
    },
    {
      "cell_type": "markdown",
      "metadata": {
        "id": "uZ-y6O7sDPOu"
      },
      "source": [
        "最初の４行は turtle を使うためのおまじないと思ってください．そのあとの部分で前に進んだり，回転したりする命令を出すことで，カメに線を描かせています．"
      ]
    },
    {
      "cell_type": "code",
      "execution_count": 2,
      "metadata": {
        "id": "yE6XOhMVDP20",
        "colab": {
          "base_uri": "https://localhost:8080/",
          "height": 522
        },
        "outputId": "209edf03-8094-4df3-e57d-7fabb65e327d"
      },
      "outputs": [
        {
          "output_type": "display_data",
          "data": {
            "text/plain": [
              "<IPython.core.display.HTML object>"
            ],
            "text/html": [
              "\n",
              "      <svg width=\"800\" height=\"500\">\n",
              "        <rect width=\"100%\" height=\"100%\" fill=\"white\"/>\n",
              "        <line x1=\"400\" y1=\"250\" x2=\"400.0\" y2=\"150.0\" stroke-linecap=\"round\" style=\"stroke:orange;stroke-width:4\"/><line x1=\"400.0\" y1=\"150.0\" x2=\"500.0\" y2=\"150.0\" stroke-linecap=\"round\" style=\"stroke:orange;stroke-width:4\"/><line x1=\"500.0\" y1=\"150.0\" x2=\"500.0\" y2=\"250.0\" stroke-linecap=\"round\" style=\"stroke:orange;stroke-width:4\"/><line x1=\"500.0\" y1=\"250.0\" x2=\"400.0\" y2=\"250.0\" stroke-linecap=\"round\" style=\"stroke:orange;stroke-width:4\"/>\n",
              "        <g visibility=visible transform=\"rotate(270,400.0,250.0) translate(382.0, 232.0)\">\n",
              "<path style=\" stroke:none;fill-rule:evenodd;fill:orange;fill-opacity:1;\" d=\"M 18.214844 0.632812 C 16.109375 1.800781 15.011719 4.074219 15.074219 7.132812 L 15.085938 7.652344 L 14.785156 7.496094 C 13.476562 6.824219 11.957031 6.671875 10.40625 7.066406 C 8.46875 7.550781 6.515625 9.15625 4.394531 11.992188 C 3.0625 13.777344 2.679688 14.636719 3.042969 15.027344 L 3.15625 15.152344 L 3.519531 15.152344 C 4.238281 15.152344 4.828125 14.886719 8.1875 13.039062 C 9.386719 12.378906 10.371094 11.839844 10.378906 11.839844 C 10.386719 11.839844 10.355469 11.929688 10.304688 12.035156 C 9.832031 13.09375 9.257812 14.820312 8.96875 16.078125 C 7.914062 20.652344 8.617188 24.53125 11.070312 27.660156 C 11.351562 28.015625 11.363281 27.914062 10.972656 28.382812 C 8.925781 30.84375 7.945312 33.28125 8.238281 35.1875 C 8.289062 35.527344 8.28125 35.523438 8.917969 35.523438 C 10.941406 35.523438 13.074219 34.207031 15.136719 31.6875 C 15.359375 31.417969 15.328125 31.425781 15.5625 31.574219 C 16.292969 32.042969 18.023438 32.964844 18.175781 32.964844 C 18.335938 32.964844 19.941406 32.210938 20.828125 31.71875 C 20.996094 31.625 21.136719 31.554688 21.136719 31.558594 C 21.203125 31.664062 21.898438 32.414062 22.222656 32.730469 C 23.835938 34.300781 25.5625 35.132812 27.582031 35.300781 C 27.90625 35.328125 27.9375 35.308594 28.007812 34.984375 C 28.382812 33.242188 27.625 30.925781 25.863281 28.425781 L 25.542969 27.96875 L 25.699219 27.785156 C 28.945312 23.960938 29.132812 18.699219 26.257812 11.96875 L 26.207031 11.84375 L 27.945312 12.703125 C 31.53125 14.476562 32.316406 14.800781 33.03125 14.800781 C 33.976562 14.800781 33.78125 13.9375 32.472656 12.292969 C 28.519531 7.355469 25.394531 5.925781 21.921875 7.472656 L 21.558594 7.636719 L 21.578125 7.542969 C 21.699219 6.992188 21.761719 5.742188 21.699219 5.164062 C 21.496094 3.296875 20.664062 1.964844 19.003906 0.855469 C 18.480469 0.503906 18.457031 0.5 18.214844 0.632812\"/>\n",
              "</g>\n",
              "      </svg>\n",
              "    "
            ]
          },
          "metadata": {}
        }
      ],
      "source": [
        "t.initializeTurtle(initial_speed=5)\n",
        "t.color('orange')\n",
        "t.bgcolor('white')\n",
        "\n",
        "t.forward(100)\n",
        "t.right(90)\n",
        "t.forward(100)\n",
        "t.right(90)\n",
        "t.forward(100)\n",
        "t.right(90)\n",
        "t.forward(100)"
      ]
    },
    {
      "cell_type": "markdown",
      "metadata": {
        "id": "SDCIDd0_FX9S"
      },
      "source": [
        "## 課題1\n",
        "\n",
        "さて，１２回目の練習に「平行四辺形を３６度回転しながら１０回繰り返して描くことで新しい雪の結晶を描いてみましょう。」というものがありました．\n",
        "\n",
        "![](https://ogilab.kutc.kansai-u.ac.jp/downloads/complang/figs_kadai11/kadai11_01.png)\n",
        "\n",
        "図のような模様を描くためには，***(1)***, ***(2)*** に何を入れればよいでしょうか？"
      ]
    },
    {
      "cell_type": "code",
      "execution_count": 3,
      "metadata": {
        "id": "L2cjxaXEETir",
        "colab": {
          "base_uri": "https://localhost:8080/",
          "height": 522
        },
        "outputId": "3c57fb99-f6ae-40b0-f879-b14a3b2ee7d2"
      },
      "outputs": [
        {
          "output_type": "display_data",
          "data": {
            "text/plain": [
              "<IPython.core.display.HTML object>"
            ],
            "text/html": [
              "\n",
              "      <svg width=\"800\" height=\"500\">\n",
              "        <rect width=\"100%\" height=\"100%\" fill=\"white\"/>\n",
              "        <line x1=\"400\" y1=\"250\" x2=\"400.0\" y2=\"150.0\" stroke-linecap=\"round\" style=\"stroke:orange;stroke-width:4\"/><line x1=\"400.0\" y1=\"150.0\" x2=\"486.603\" y2=\"100.0\" stroke-linecap=\"round\" style=\"stroke:orange;stroke-width:4\"/><line x1=\"486.603\" y1=\"100.0\" x2=\"486.603\" y2=\"200.0\" stroke-linecap=\"round\" style=\"stroke:orange;stroke-width:4\"/><line x1=\"486.603\" y1=\"200.0\" x2=\"400.0\" y2=\"250.0\" stroke-linecap=\"round\" style=\"stroke:orange;stroke-width:4\"/><line x1=\"400.0\" y1=\"250.0\" x2=\"458.779\" y2=\"169.098\" stroke-linecap=\"round\" style=\"stroke:orange;stroke-width:4\"/><line x1=\"458.779\" y1=\"169.098\" x2=\"558.231\" y2=\"179.551\" stroke-linecap=\"round\" style=\"stroke:orange;stroke-width:4\"/><line x1=\"558.231\" y1=\"179.551\" x2=\"499.452\" y2=\"260.453\" stroke-linecap=\"round\" style=\"stroke:orange;stroke-width:4\"/><line x1=\"499.452\" y1=\"260.453\" x2=\"400.0\" y2=\"250.0\" stroke-linecap=\"round\" style=\"stroke:orange;stroke-width:4\"/><line x1=\"400.0\" y1=\"250.0\" x2=\"495.106\" y2=\"219.098\" stroke-linecap=\"round\" style=\"stroke:orange;stroke-width:4\"/><line x1=\"495.106\" y1=\"219.098\" x2=\"569.42\" y2=\"286.011\" stroke-linecap=\"round\" style=\"stroke:orange;stroke-width:4\"/><line x1=\"569.42\" y1=\"286.011\" x2=\"474.314\" y2=\"316.913\" stroke-linecap=\"round\" style=\"stroke:orange;stroke-width:4\"/><line x1=\"474.314\" y1=\"316.913\" x2=\"400.0\" y2=\"250.0\" stroke-linecap=\"round\" style=\"stroke:orange;stroke-width:4\"/><line x1=\"400.0\" y1=\"250.0\" x2=\"495.106\" y2=\"280.902\" stroke-linecap=\"round\" style=\"stroke:orange;stroke-width:4\"/><line x1=\"495.106\" y1=\"280.902\" x2=\"515.897\" y2=\"378.717\" stroke-linecap=\"round\" style=\"stroke:orange;stroke-width:4\"/><line x1=\"515.897\" y1=\"378.717\" x2=\"420.791\" y2=\"347.815\" stroke-linecap=\"round\" style=\"stroke:orange;stroke-width:4\"/><line x1=\"420.791\" y1=\"347.815\" x2=\"400.0\" y2=\"250.0\" stroke-linecap=\"round\" style=\"stroke:orange;stroke-width:4\"/><line x1=\"400.0\" y1=\"250.0\" x2=\"458.779\" y2=\"330.902\" stroke-linecap=\"round\" style=\"stroke:orange;stroke-width:4\"/><line x1=\"458.779\" y1=\"330.902\" x2=\"418.105\" y2=\"422.257\" stroke-linecap=\"round\" style=\"stroke:orange;stroke-width:4\"/><line x1=\"418.105\" y1=\"422.257\" x2=\"359.326\" y2=\"341.355\" stroke-linecap=\"round\" style=\"stroke:orange;stroke-width:4\"/><line x1=\"359.326\" y1=\"341.355\" x2=\"400.0\" y2=\"250.0\" stroke-linecap=\"round\" style=\"stroke:orange;stroke-width:4\"/><line x1=\"400.0\" y1=\"250.0\" x2=\"400.0\" y2=\"350.0\" stroke-linecap=\"round\" style=\"stroke:orange;stroke-width:4\"/><line x1=\"400.0\" y1=\"350.0\" x2=\"313.397\" y2=\"400.0\" stroke-linecap=\"round\" style=\"stroke:orange;stroke-width:4\"/><line x1=\"313.397\" y1=\"400.0\" x2=\"313.397\" y2=\"300.0\" stroke-linecap=\"round\" style=\"stroke:orange;stroke-width:4\"/><line x1=\"313.397\" y1=\"300.0\" x2=\"400.0\" y2=\"250.0\" stroke-linecap=\"round\" style=\"stroke:orange;stroke-width:4\"/><line x1=\"400.0\" y1=\"250.0\" x2=\"341.221\" y2=\"330.902\" stroke-linecap=\"round\" style=\"stroke:orange;stroke-width:4\"/><line x1=\"341.221\" y1=\"330.902\" x2=\"241.769\" y2=\"320.449\" stroke-linecap=\"round\" style=\"stroke:orange;stroke-width:4\"/><line x1=\"241.769\" y1=\"320.449\" x2=\"300.548\" y2=\"239.547\" stroke-linecap=\"round\" style=\"stroke:orange;stroke-width:4\"/><line x1=\"300.548\" y1=\"239.547\" x2=\"400.0\" y2=\"250.0\" stroke-linecap=\"round\" style=\"stroke:orange;stroke-width:4\"/><line x1=\"400.0\" y1=\"250.0\" x2=\"304.894\" y2=\"280.902\" stroke-linecap=\"round\" style=\"stroke:orange;stroke-width:4\"/><line x1=\"304.894\" y1=\"280.902\" x2=\"230.58\" y2=\"213.989\" stroke-linecap=\"round\" style=\"stroke:orange;stroke-width:4\"/><line x1=\"230.58\" y1=\"213.989\" x2=\"325.686\" y2=\"183.087\" stroke-linecap=\"round\" style=\"stroke:orange;stroke-width:4\"/><line x1=\"325.686\" y1=\"183.087\" x2=\"400.0\" y2=\"250.0\" stroke-linecap=\"round\" style=\"stroke:orange;stroke-width:4\"/><line x1=\"400.0\" y1=\"250.0\" x2=\"304.894\" y2=\"219.098\" stroke-linecap=\"round\" style=\"stroke:orange;stroke-width:4\"/><line x1=\"304.894\" y1=\"219.098\" x2=\"284.103\" y2=\"121.283\" stroke-linecap=\"round\" style=\"stroke:orange;stroke-width:4\"/><line x1=\"284.103\" y1=\"121.283\" x2=\"379.209\" y2=\"152.185\" stroke-linecap=\"round\" style=\"stroke:orange;stroke-width:4\"/><line x1=\"379.209\" y1=\"152.185\" x2=\"400.0\" y2=\"250.0\" stroke-linecap=\"round\" style=\"stroke:orange;stroke-width:4\"/><line x1=\"400.0\" y1=\"250.0\" x2=\"341.221\" y2=\"169.098\" stroke-linecap=\"round\" style=\"stroke:orange;stroke-width:4\"/><line x1=\"341.221\" y1=\"169.098\" x2=\"381.895\" y2=\"77.743\" stroke-linecap=\"round\" style=\"stroke:orange;stroke-width:4\"/><line x1=\"381.895\" y1=\"77.743\" x2=\"440.674\" y2=\"158.645\" stroke-linecap=\"round\" style=\"stroke:orange;stroke-width:4\"/><line x1=\"440.674\" y1=\"158.645\" x2=\"400.0\" y2=\"250.0\" stroke-linecap=\"round\" style=\"stroke:orange;stroke-width:4\"/>\n",
              "        <g visibility=visible transform=\"rotate(360,400.0,250.0) translate(382.0, 232.0)\">\n",
              "<path style=\" stroke:none;fill-rule:evenodd;fill:orange;fill-opacity:1;\" d=\"M 18.214844 0.632812 C 16.109375 1.800781 15.011719 4.074219 15.074219 7.132812 L 15.085938 7.652344 L 14.785156 7.496094 C 13.476562 6.824219 11.957031 6.671875 10.40625 7.066406 C 8.46875 7.550781 6.515625 9.15625 4.394531 11.992188 C 3.0625 13.777344 2.679688 14.636719 3.042969 15.027344 L 3.15625 15.152344 L 3.519531 15.152344 C 4.238281 15.152344 4.828125 14.886719 8.1875 13.039062 C 9.386719 12.378906 10.371094 11.839844 10.378906 11.839844 C 10.386719 11.839844 10.355469 11.929688 10.304688 12.035156 C 9.832031 13.09375 9.257812 14.820312 8.96875 16.078125 C 7.914062 20.652344 8.617188 24.53125 11.070312 27.660156 C 11.351562 28.015625 11.363281 27.914062 10.972656 28.382812 C 8.925781 30.84375 7.945312 33.28125 8.238281 35.1875 C 8.289062 35.527344 8.28125 35.523438 8.917969 35.523438 C 10.941406 35.523438 13.074219 34.207031 15.136719 31.6875 C 15.359375 31.417969 15.328125 31.425781 15.5625 31.574219 C 16.292969 32.042969 18.023438 32.964844 18.175781 32.964844 C 18.335938 32.964844 19.941406 32.210938 20.828125 31.71875 C 20.996094 31.625 21.136719 31.554688 21.136719 31.558594 C 21.203125 31.664062 21.898438 32.414062 22.222656 32.730469 C 23.835938 34.300781 25.5625 35.132812 27.582031 35.300781 C 27.90625 35.328125 27.9375 35.308594 28.007812 34.984375 C 28.382812 33.242188 27.625 30.925781 25.863281 28.425781 L 25.542969 27.96875 L 25.699219 27.785156 C 28.945312 23.960938 29.132812 18.699219 26.257812 11.96875 L 26.207031 11.84375 L 27.945312 12.703125 C 31.53125 14.476562 32.316406 14.800781 33.03125 14.800781 C 33.976562 14.800781 33.78125 13.9375 32.472656 12.292969 C 28.519531 7.355469 25.394531 5.925781 21.921875 7.472656 L 21.558594 7.636719 L 21.578125 7.542969 C 21.699219 6.992188 21.761719 5.742188 21.699219 5.164062 C 21.496094 3.296875 20.664062 1.964844 19.003906 0.855469 C 18.480469 0.503906 18.457031 0.5 18.214844 0.632812\"/>\n",
              "</g>\n",
              "      </svg>\n",
              "    "
            ]
          },
          "metadata": {}
        }
      ],
      "source": [
        "t.initializeTurtle(initial_speed=5)\n",
        "t.color('orange')\n",
        "t.bgcolor('white')\n",
        "\n",
        "for i in range(10):\n",
        "\tfor j in range(2):\n",
        "\t\tt.forward(100)\n",
        "\t\tt.right(60)\n",
        "\t\tt.forward(100)\n",
        "\t\tt.right(120)\n",
        "\tt.right(36)\n"
      ]
    },
    {
      "cell_type": "markdown",
      "metadata": {
        "id": "ucoyjOSkFt-A"
      },
      "source": [
        "## 渦巻き模様\n",
        "\n",
        "次に，渦巻き模様を描いてみましょう．\n",
        "そのために，まず正方形から始めます．"
      ]
    },
    {
      "cell_type": "code",
      "execution_count": 4,
      "metadata": {
        "id": "hNdN8DV4Fupl",
        "colab": {
          "base_uri": "https://localhost:8080/",
          "height": 522
        },
        "outputId": "c7f4b4f9-15f4-496d-b989-60d9762ac798"
      },
      "outputs": [
        {
          "output_type": "display_data",
          "data": {
            "text/plain": [
              "<IPython.core.display.HTML object>"
            ],
            "text/html": [
              "\n",
              "      <svg width=\"800\" height=\"500\">\n",
              "        <rect width=\"100%\" height=\"100%\" fill=\"white\"/>\n",
              "        <line x1=\"400\" y1=\"250\" x2=\"400.0\" y2=\"150.0\" stroke-linecap=\"round\" style=\"stroke:orange;stroke-width:4\"/><line x1=\"400.0\" y1=\"150.0\" x2=\"500.0\" y2=\"150.0\" stroke-linecap=\"round\" style=\"stroke:orange;stroke-width:4\"/><line x1=\"500.0\" y1=\"150.0\" x2=\"500.0\" y2=\"250.0\" stroke-linecap=\"round\" style=\"stroke:orange;stroke-width:4\"/><line x1=\"500.0\" y1=\"250.0\" x2=\"400.0\" y2=\"250.0\" stroke-linecap=\"round\" style=\"stroke:orange;stroke-width:4\"/>\n",
              "        <g visibility=visible transform=\"rotate(270,400.0,250.0) translate(382.0, 232.0)\">\n",
              "<path style=\" stroke:none;fill-rule:evenodd;fill:orange;fill-opacity:1;\" d=\"M 18.214844 0.632812 C 16.109375 1.800781 15.011719 4.074219 15.074219 7.132812 L 15.085938 7.652344 L 14.785156 7.496094 C 13.476562 6.824219 11.957031 6.671875 10.40625 7.066406 C 8.46875 7.550781 6.515625 9.15625 4.394531 11.992188 C 3.0625 13.777344 2.679688 14.636719 3.042969 15.027344 L 3.15625 15.152344 L 3.519531 15.152344 C 4.238281 15.152344 4.828125 14.886719 8.1875 13.039062 C 9.386719 12.378906 10.371094 11.839844 10.378906 11.839844 C 10.386719 11.839844 10.355469 11.929688 10.304688 12.035156 C 9.832031 13.09375 9.257812 14.820312 8.96875 16.078125 C 7.914062 20.652344 8.617188 24.53125 11.070312 27.660156 C 11.351562 28.015625 11.363281 27.914062 10.972656 28.382812 C 8.925781 30.84375 7.945312 33.28125 8.238281 35.1875 C 8.289062 35.527344 8.28125 35.523438 8.917969 35.523438 C 10.941406 35.523438 13.074219 34.207031 15.136719 31.6875 C 15.359375 31.417969 15.328125 31.425781 15.5625 31.574219 C 16.292969 32.042969 18.023438 32.964844 18.175781 32.964844 C 18.335938 32.964844 19.941406 32.210938 20.828125 31.71875 C 20.996094 31.625 21.136719 31.554688 21.136719 31.558594 C 21.203125 31.664062 21.898438 32.414062 22.222656 32.730469 C 23.835938 34.300781 25.5625 35.132812 27.582031 35.300781 C 27.90625 35.328125 27.9375 35.308594 28.007812 34.984375 C 28.382812 33.242188 27.625 30.925781 25.863281 28.425781 L 25.542969 27.96875 L 25.699219 27.785156 C 28.945312 23.960938 29.132812 18.699219 26.257812 11.96875 L 26.207031 11.84375 L 27.945312 12.703125 C 31.53125 14.476562 32.316406 14.800781 33.03125 14.800781 C 33.976562 14.800781 33.78125 13.9375 32.472656 12.292969 C 28.519531 7.355469 25.394531 5.925781 21.921875 7.472656 L 21.558594 7.636719 L 21.578125 7.542969 C 21.699219 6.992188 21.761719 5.742188 21.699219 5.164062 C 21.496094 3.296875 20.664062 1.964844 19.003906 0.855469 C 18.480469 0.503906 18.457031 0.5 18.214844 0.632812\"/>\n",
              "</g>\n",
              "      </svg>\n",
              "    "
            ]
          },
          "metadata": {}
        }
      ],
      "source": [
        "t.initializeTurtle(initial_speed=5)\n",
        "t.color('orange')\n",
        "t.bgcolor('white')\n",
        "\n",
        "t.forward(100)\n",
        "t.right(90)\n",
        "t.forward(100)\n",
        "t.right(90)\n",
        "t.forward(100)\n",
        "t.right(90)\n",
        "t.forward(100)"
      ]
    },
    {
      "cell_type": "markdown",
      "metadata": {
        "id": "AnOwhK1aF4Xr"
      },
      "source": [
        "前に進んで右に９０度回転する，ということを繰り返せばよいですね．\n",
        "渦巻きにするためには，前に行く距離をだんだん小さくすればよいですね．"
      ]
    },
    {
      "cell_type": "code",
      "execution_count": 5,
      "metadata": {
        "id": "yQt2NIkPF5FL",
        "colab": {
          "base_uri": "https://localhost:8080/",
          "height": 522
        },
        "outputId": "c8deb97d-60c5-47c3-e8e9-7ab9e6456a9a"
      },
      "outputs": [
        {
          "output_type": "display_data",
          "data": {
            "text/plain": [
              "<IPython.core.display.HTML object>"
            ],
            "text/html": [
              "\n",
              "      <svg width=\"800\" height=\"500\">\n",
              "        <rect width=\"100%\" height=\"100%\" fill=\"white\"/>\n",
              "        <line x1=\"400\" y1=\"250\" x2=\"400.0\" y2=\"150.0\" stroke-linecap=\"round\" style=\"stroke:orange;stroke-width:4\"/><line x1=\"400.0\" y1=\"150.0\" x2=\"495.0\" y2=\"150.0\" stroke-linecap=\"round\" style=\"stroke:orange;stroke-width:4\"/><line x1=\"495.0\" y1=\"150.0\" x2=\"495.0\" y2=\"240.0\" stroke-linecap=\"round\" style=\"stroke:orange;stroke-width:4\"/><line x1=\"495.0\" y1=\"240.0\" x2=\"410.0\" y2=\"240.0\" stroke-linecap=\"round\" style=\"stroke:orange;stroke-width:4\"/><line x1=\"410.0\" y1=\"240.0\" x2=\"410.0\" y2=\"160.0\" stroke-linecap=\"round\" style=\"stroke:orange;stroke-width:4\"/><line x1=\"410.0\" y1=\"160.0\" x2=\"485.0\" y2=\"160.0\" stroke-linecap=\"round\" style=\"stroke:orange;stroke-width:4\"/><line x1=\"485.0\" y1=\"160.0\" x2=\"485.0\" y2=\"230.0\" stroke-linecap=\"round\" style=\"stroke:orange;stroke-width:4\"/>\n",
              "        <g visibility=visible transform=\"rotate(270,485.0,230.0) translate(467.0, 212.0)\">\n",
              "<path style=\" stroke:none;fill-rule:evenodd;fill:orange;fill-opacity:1;\" d=\"M 18.214844 0.632812 C 16.109375 1.800781 15.011719 4.074219 15.074219 7.132812 L 15.085938 7.652344 L 14.785156 7.496094 C 13.476562 6.824219 11.957031 6.671875 10.40625 7.066406 C 8.46875 7.550781 6.515625 9.15625 4.394531 11.992188 C 3.0625 13.777344 2.679688 14.636719 3.042969 15.027344 L 3.15625 15.152344 L 3.519531 15.152344 C 4.238281 15.152344 4.828125 14.886719 8.1875 13.039062 C 9.386719 12.378906 10.371094 11.839844 10.378906 11.839844 C 10.386719 11.839844 10.355469 11.929688 10.304688 12.035156 C 9.832031 13.09375 9.257812 14.820312 8.96875 16.078125 C 7.914062 20.652344 8.617188 24.53125 11.070312 27.660156 C 11.351562 28.015625 11.363281 27.914062 10.972656 28.382812 C 8.925781 30.84375 7.945312 33.28125 8.238281 35.1875 C 8.289062 35.527344 8.28125 35.523438 8.917969 35.523438 C 10.941406 35.523438 13.074219 34.207031 15.136719 31.6875 C 15.359375 31.417969 15.328125 31.425781 15.5625 31.574219 C 16.292969 32.042969 18.023438 32.964844 18.175781 32.964844 C 18.335938 32.964844 19.941406 32.210938 20.828125 31.71875 C 20.996094 31.625 21.136719 31.554688 21.136719 31.558594 C 21.203125 31.664062 21.898438 32.414062 22.222656 32.730469 C 23.835938 34.300781 25.5625 35.132812 27.582031 35.300781 C 27.90625 35.328125 27.9375 35.308594 28.007812 34.984375 C 28.382812 33.242188 27.625 30.925781 25.863281 28.425781 L 25.542969 27.96875 L 25.699219 27.785156 C 28.945312 23.960938 29.132812 18.699219 26.257812 11.96875 L 26.207031 11.84375 L 27.945312 12.703125 C 31.53125 14.476562 32.316406 14.800781 33.03125 14.800781 C 33.976562 14.800781 33.78125 13.9375 32.472656 12.292969 C 28.519531 7.355469 25.394531 5.925781 21.921875 7.472656 L 21.558594 7.636719 L 21.578125 7.542969 C 21.699219 6.992188 21.761719 5.742188 21.699219 5.164062 C 21.496094 3.296875 20.664062 1.964844 19.003906 0.855469 C 18.480469 0.503906 18.457031 0.5 18.214844 0.632812\"/>\n",
              "</g>\n",
              "      </svg>\n",
              "    "
            ]
          },
          "metadata": {}
        }
      ],
      "source": [
        "t.initializeTurtle(initial_speed=5)\n",
        "t.color('orange')\n",
        "t.bgcolor('white')\n",
        "\n",
        "t.forward(100)\n",
        "t.right(90)\n",
        "t.forward(95)\n",
        "t.right(90)\n",
        "t.forward(90)\n",
        "t.right(90)\n",
        "t.forward(85)\n",
        "t.right(90)\n",
        "t.forward(80)\n",
        "t.right(90)\n",
        "t.forward(75)\n",
        "t.right(90)\n",
        "t.forward(70)\n",
        "t.right(90)"
      ]
    },
    {
      "cell_type": "markdown",
      "metadata": {
        "id": "K-617R-NGCXM"
      },
      "source": [
        "## 課題２\n",
        "\n",
        "同じような形になっているので，```for``` による繰り返しが使えそうです．以下のプログラムの　***(1)*** には何が入るでしょう？"
      ]
    },
    {
      "cell_type": "code",
      "execution_count": 8,
      "metadata": {
        "id": "A_AnGrcuF9Mi",
        "colab": {
          "base_uri": "https://localhost:8080/",
          "height": 522
        },
        "outputId": "fb0cc7b7-a13f-4f05-cd45-ddd755db8e2f"
      },
      "outputs": [
        {
          "output_type": "display_data",
          "data": {
            "text/plain": [
              "<IPython.core.display.HTML object>"
            ],
            "text/html": [
              "\n",
              "      <svg width=\"800\" height=\"500\">\n",
              "        <rect width=\"100%\" height=\"100%\" fill=\"white\"/>\n",
              "        <line x1=\"400\" y1=\"250\" x2=\"400.0\" y2=\"150.0\" stroke-linecap=\"round\" style=\"stroke:orange;stroke-width:4\"/><line x1=\"400.0\" y1=\"150.0\" x2=\"495.0\" y2=\"150.0\" stroke-linecap=\"round\" style=\"stroke:orange;stroke-width:4\"/><line x1=\"495.0\" y1=\"150.0\" x2=\"495.0\" y2=\"240.0\" stroke-linecap=\"round\" style=\"stroke:orange;stroke-width:4\"/><line x1=\"495.0\" y1=\"240.0\" x2=\"410.0\" y2=\"240.0\" stroke-linecap=\"round\" style=\"stroke:orange;stroke-width:4\"/><line x1=\"410.0\" y1=\"240.0\" x2=\"410.0\" y2=\"160.0\" stroke-linecap=\"round\" style=\"stroke:orange;stroke-width:4\"/><line x1=\"410.0\" y1=\"160.0\" x2=\"485.0\" y2=\"160.0\" stroke-linecap=\"round\" style=\"stroke:orange;stroke-width:4\"/><line x1=\"485.0\" y1=\"160.0\" x2=\"485.0\" y2=\"230.0\" stroke-linecap=\"round\" style=\"stroke:orange;stroke-width:4\"/><line x1=\"485.0\" y1=\"230.0\" x2=\"420.0\" y2=\"230.0\" stroke-linecap=\"round\" style=\"stroke:orange;stroke-width:4\"/><line x1=\"420.0\" y1=\"230.0\" x2=\"420.0\" y2=\"170.0\" stroke-linecap=\"round\" style=\"stroke:orange;stroke-width:4\"/><line x1=\"420.0\" y1=\"170.0\" x2=\"475.0\" y2=\"170.0\" stroke-linecap=\"round\" style=\"stroke:orange;stroke-width:4\"/><line x1=\"475.0\" y1=\"170.0\" x2=\"475.0\" y2=\"220.0\" stroke-linecap=\"round\" style=\"stroke:orange;stroke-width:4\"/><line x1=\"475.0\" y1=\"220.0\" x2=\"430.0\" y2=\"220.0\" stroke-linecap=\"round\" style=\"stroke:orange;stroke-width:4\"/><line x1=\"430.0\" y1=\"220.0\" x2=\"430.0\" y2=\"180.0\" stroke-linecap=\"round\" style=\"stroke:orange;stroke-width:4\"/><line x1=\"430.0\" y1=\"180.0\" x2=\"465.0\" y2=\"180.0\" stroke-linecap=\"round\" style=\"stroke:orange;stroke-width:4\"/><line x1=\"465.0\" y1=\"180.0\" x2=\"465.0\" y2=\"210.0\" stroke-linecap=\"round\" style=\"stroke:orange;stroke-width:4\"/><line x1=\"465.0\" y1=\"210.0\" x2=\"440.0\" y2=\"210.0\" stroke-linecap=\"round\" style=\"stroke:orange;stroke-width:4\"/><line x1=\"440.0\" y1=\"210.0\" x2=\"440.0\" y2=\"190.0\" stroke-linecap=\"round\" style=\"stroke:orange;stroke-width:4\"/><line x1=\"440.0\" y1=\"190.0\" x2=\"455.0\" y2=\"190.0\" stroke-linecap=\"round\" style=\"stroke:orange;stroke-width:4\"/><line x1=\"455.0\" y1=\"190.0\" x2=\"455.0\" y2=\"200.0\" stroke-linecap=\"round\" style=\"stroke:orange;stroke-width:4\"/><line x1=\"455.0\" y1=\"200.0\" x2=\"450.0\" y2=\"200.0\" stroke-linecap=\"round\" style=\"stroke:orange;stroke-width:4\"/>\n",
              "        <g visibility=visible transform=\"rotate(360,450.0,200.0) translate(432.0, 182.0)\">\n",
              "<path style=\" stroke:none;fill-rule:evenodd;fill:orange;fill-opacity:1;\" d=\"M 18.214844 0.632812 C 16.109375 1.800781 15.011719 4.074219 15.074219 7.132812 L 15.085938 7.652344 L 14.785156 7.496094 C 13.476562 6.824219 11.957031 6.671875 10.40625 7.066406 C 8.46875 7.550781 6.515625 9.15625 4.394531 11.992188 C 3.0625 13.777344 2.679688 14.636719 3.042969 15.027344 L 3.15625 15.152344 L 3.519531 15.152344 C 4.238281 15.152344 4.828125 14.886719 8.1875 13.039062 C 9.386719 12.378906 10.371094 11.839844 10.378906 11.839844 C 10.386719 11.839844 10.355469 11.929688 10.304688 12.035156 C 9.832031 13.09375 9.257812 14.820312 8.96875 16.078125 C 7.914062 20.652344 8.617188 24.53125 11.070312 27.660156 C 11.351562 28.015625 11.363281 27.914062 10.972656 28.382812 C 8.925781 30.84375 7.945312 33.28125 8.238281 35.1875 C 8.289062 35.527344 8.28125 35.523438 8.917969 35.523438 C 10.941406 35.523438 13.074219 34.207031 15.136719 31.6875 C 15.359375 31.417969 15.328125 31.425781 15.5625 31.574219 C 16.292969 32.042969 18.023438 32.964844 18.175781 32.964844 C 18.335938 32.964844 19.941406 32.210938 20.828125 31.71875 C 20.996094 31.625 21.136719 31.554688 21.136719 31.558594 C 21.203125 31.664062 21.898438 32.414062 22.222656 32.730469 C 23.835938 34.300781 25.5625 35.132812 27.582031 35.300781 C 27.90625 35.328125 27.9375 35.308594 28.007812 34.984375 C 28.382812 33.242188 27.625 30.925781 25.863281 28.425781 L 25.542969 27.96875 L 25.699219 27.785156 C 28.945312 23.960938 29.132812 18.699219 26.257812 11.96875 L 26.207031 11.84375 L 27.945312 12.703125 C 31.53125 14.476562 32.316406 14.800781 33.03125 14.800781 C 33.976562 14.800781 33.78125 13.9375 32.472656 12.292969 C 28.519531 7.355469 25.394531 5.925781 21.921875 7.472656 L 21.558594 7.636719 L 21.578125 7.542969 C 21.699219 6.992188 21.761719 5.742188 21.699219 5.164062 C 21.496094 3.296875 20.664062 1.964844 19.003906 0.855469 C 18.480469 0.503906 18.457031 0.5 18.214844 0.632812\"/>\n",
              "</g>\n",
              "      </svg>\n",
              "    "
            ]
          },
          "metadata": {}
        }
      ],
      "source": [
        "t.initializeTurtle(initial_speed=5)\n",
        "t.color('orange')\n",
        "t.bgcolor('white')\n",
        "\n",
        "x = 100\n",
        "for i in range(20):\n",
        "    t.forward(x)\n",
        "    t.right(90)\n",
        "    x = x-5"
      ]
    },
    {
      "cell_type": "markdown",
      "metadata": {
        "id": "p7EMTcWlGNZX"
      },
      "source": [
        "for を使って，より短いコードでパターンを描くことができました．\n",
        "\n",
        "\n",
        "## 再帰による描画\n",
        "\n",
        "さて，渦巻きというパターンは「渦の中にまた渦があって，その中にまた渦があって」という繰り返しとして考えることができます．このように「構造の中にまた同じ構造が現れる」パターンは__再帰__ で表現することができます．つまり，「渦を描け」という命令の中に「もっと小さい渦を描け」と命令をしておけば，一度その命令をよびだすだけで，どんどんと小さな渦を描く命令が繰り返されていくわけです．関数的に書くと\n",
        "\n",
        "```\n",
        "渦を描け（渦を描け（渦を描け（．．．）））\n",
        "```\n",
        "\n",
        "となります．\n",
        "\n",
        "これをpython で書くと以下のようになります．\n",
        "\n"
      ]
    },
    {
      "cell_type": "code",
      "execution_count": 3,
      "metadata": {
        "id": "hwKnrjrJGN-B",
        "colab": {
          "base_uri": "https://localhost:8080/",
          "height": 522
        },
        "outputId": "f9e5ba31-7d85-4cb0-839c-aae57576f95a"
      },
      "outputs": [
        {
          "output_type": "display_data",
          "data": {
            "text/plain": [
              "<IPython.core.display.HTML object>"
            ],
            "text/html": [
              "\n",
              "      <svg width=\"800\" height=\"500\">\n",
              "        <rect width=\"100%\" height=\"100%\" fill=\"white\"/>\n",
              "        <line x1=\"400\" y1=\"250\" x2=\"400.0\" y2=\"150.0\" stroke-linecap=\"round\" style=\"stroke:orange;stroke-width:4\"/><line x1=\"400.0\" y1=\"150.0\" x2=\"495.0\" y2=\"150.0\" stroke-linecap=\"round\" style=\"stroke:orange;stroke-width:4\"/><line x1=\"495.0\" y1=\"150.0\" x2=\"495.0\" y2=\"240.0\" stroke-linecap=\"round\" style=\"stroke:orange;stroke-width:4\"/><line x1=\"495.0\" y1=\"240.0\" x2=\"410.0\" y2=\"240.0\" stroke-linecap=\"round\" style=\"stroke:orange;stroke-width:4\"/><line x1=\"410.0\" y1=\"240.0\" x2=\"410.0\" y2=\"160.0\" stroke-linecap=\"round\" style=\"stroke:orange;stroke-width:4\"/><line x1=\"410.0\" y1=\"160.0\" x2=\"485.0\" y2=\"160.0\" stroke-linecap=\"round\" style=\"stroke:orange;stroke-width:4\"/><line x1=\"485.0\" y1=\"160.0\" x2=\"485.0\" y2=\"230.0\" stroke-linecap=\"round\" style=\"stroke:orange;stroke-width:4\"/><line x1=\"485.0\" y1=\"230.0\" x2=\"420.0\" y2=\"230.0\" stroke-linecap=\"round\" style=\"stroke:orange;stroke-width:4\"/><line x1=\"420.0\" y1=\"230.0\" x2=\"420.0\" y2=\"170.0\" stroke-linecap=\"round\" style=\"stroke:orange;stroke-width:4\"/><line x1=\"420.0\" y1=\"170.0\" x2=\"475.0\" y2=\"170.0\" stroke-linecap=\"round\" style=\"stroke:orange;stroke-width:4\"/><line x1=\"475.0\" y1=\"170.0\" x2=\"475.0\" y2=\"220.0\" stroke-linecap=\"round\" style=\"stroke:orange;stroke-width:4\"/><line x1=\"475.0\" y1=\"220.0\" x2=\"430.0\" y2=\"220.0\" stroke-linecap=\"round\" style=\"stroke:orange;stroke-width:4\"/><line x1=\"430.0\" y1=\"220.0\" x2=\"430.0\" y2=\"180.0\" stroke-linecap=\"round\" style=\"stroke:orange;stroke-width:4\"/><line x1=\"430.0\" y1=\"180.0\" x2=\"465.0\" y2=\"180.0\" stroke-linecap=\"round\" style=\"stroke:orange;stroke-width:4\"/><line x1=\"465.0\" y1=\"180.0\" x2=\"465.0\" y2=\"210.0\" stroke-linecap=\"round\" style=\"stroke:orange;stroke-width:4\"/><line x1=\"465.0\" y1=\"210.0\" x2=\"440.0\" y2=\"210.0\" stroke-linecap=\"round\" style=\"stroke:orange;stroke-width:4\"/><line x1=\"440.0\" y1=\"210.0\" x2=\"440.0\" y2=\"190.0\" stroke-linecap=\"round\" style=\"stroke:orange;stroke-width:4\"/><line x1=\"440.0\" y1=\"190.0\" x2=\"455.0\" y2=\"190.0\" stroke-linecap=\"round\" style=\"stroke:orange;stroke-width:4\"/><line x1=\"455.0\" y1=\"190.0\" x2=\"455.0\" y2=\"200.0\" stroke-linecap=\"round\" style=\"stroke:orange;stroke-width:4\"/><line x1=\"455.0\" y1=\"200.0\" x2=\"450.0\" y2=\"200.0\" stroke-linecap=\"round\" style=\"stroke:orange;stroke-width:4\"/>\n",
              "        <g visibility=visible transform=\"rotate(360,450.0,200.0) translate(432.0, 182.0)\">\n",
              "<path style=\" stroke:none;fill-rule:evenodd;fill:orange;fill-opacity:1;\" d=\"M 18.214844 0.632812 C 16.109375 1.800781 15.011719 4.074219 15.074219 7.132812 L 15.085938 7.652344 L 14.785156 7.496094 C 13.476562 6.824219 11.957031 6.671875 10.40625 7.066406 C 8.46875 7.550781 6.515625 9.15625 4.394531 11.992188 C 3.0625 13.777344 2.679688 14.636719 3.042969 15.027344 L 3.15625 15.152344 L 3.519531 15.152344 C 4.238281 15.152344 4.828125 14.886719 8.1875 13.039062 C 9.386719 12.378906 10.371094 11.839844 10.378906 11.839844 C 10.386719 11.839844 10.355469 11.929688 10.304688 12.035156 C 9.832031 13.09375 9.257812 14.820312 8.96875 16.078125 C 7.914062 20.652344 8.617188 24.53125 11.070312 27.660156 C 11.351562 28.015625 11.363281 27.914062 10.972656 28.382812 C 8.925781 30.84375 7.945312 33.28125 8.238281 35.1875 C 8.289062 35.527344 8.28125 35.523438 8.917969 35.523438 C 10.941406 35.523438 13.074219 34.207031 15.136719 31.6875 C 15.359375 31.417969 15.328125 31.425781 15.5625 31.574219 C 16.292969 32.042969 18.023438 32.964844 18.175781 32.964844 C 18.335938 32.964844 19.941406 32.210938 20.828125 31.71875 C 20.996094 31.625 21.136719 31.554688 21.136719 31.558594 C 21.203125 31.664062 21.898438 32.414062 22.222656 32.730469 C 23.835938 34.300781 25.5625 35.132812 27.582031 35.300781 C 27.90625 35.328125 27.9375 35.308594 28.007812 34.984375 C 28.382812 33.242188 27.625 30.925781 25.863281 28.425781 L 25.542969 27.96875 L 25.699219 27.785156 C 28.945312 23.960938 29.132812 18.699219 26.257812 11.96875 L 26.207031 11.84375 L 27.945312 12.703125 C 31.53125 14.476562 32.316406 14.800781 33.03125 14.800781 C 33.976562 14.800781 33.78125 13.9375 32.472656 12.292969 C 28.519531 7.355469 25.394531 5.925781 21.921875 7.472656 L 21.558594 7.636719 L 21.578125 7.542969 C 21.699219 6.992188 21.761719 5.742188 21.699219 5.164062 C 21.496094 3.296875 20.664062 1.964844 19.003906 0.855469 C 18.480469 0.503906 18.457031 0.5 18.214844 0.632812\"/>\n",
              "</g>\n",
              "      </svg>\n",
              "    "
            ]
          },
          "metadata": {}
        }
      ],
      "source": [
        "t.initializeTurtle(initial_speed=5)\n",
        "t.color('orange')\n",
        "t.bgcolor('white')\n",
        "\n",
        "def draw_spiral( a ): # a の長さの線を描け関数\n",
        "  if a>0:\n",
        "    t.forward(a)\n",
        "    t.right(90)\n",
        "    draw_spiral(a-5)  # 自分の中で自分を呼び出し！\n",
        "\n",
        "draw_spiral(100)"
      ]
    },
    {
      "cell_type": "markdown",
      "metadata": {
        "id": "jQk_Okv1Iv05"
      },
      "source": [
        "```draw_spiral(a)``` は 「a の長さの線を描いて90度回転しろ」ですが，その中で「aより5短い長さの線を描いて90度回転しろ」が呼ばれ，さらにそれよりも小さなものを描いて．．と繰り返されていきます．それはどこまで続くのでしょう？「a>0」が成り立つ限り，ということですね．\n",
        "\n",
        "\n",
        "渦に限らず，自分の中に自分が出てくる図形のことを「[フラクタル](http://ja.wikipedia.org/wiki/フラクタル)」と言います．自然界の中にもそのようなパターンはあります．例えば以下のロマネスコブロッコリーもそうです．\n",
        "\n",
        "![](http://ogilab.kutc.kansai-u.ac.jp/downloads/complang/figs_kadai11/romanesco.png)\n",
        "\n",
        "鳥肌がたちそうですね．\n",
        "\n",
        "木も再帰を使って描くことができます．"
      ]
    },
    {
      "cell_type": "code",
      "execution_count": 4,
      "metadata": {
        "id": "ZHmaPrw4GkuM",
        "colab": {
          "base_uri": "https://localhost:8080/",
          "height": 522
        },
        "outputId": "95d63eed-2428-45ec-f7db-3bf7bca734ec"
      },
      "outputs": [
        {
          "output_type": "display_data",
          "data": {
            "text/plain": [
              "<IPython.core.display.HTML object>"
            ],
            "text/html": [
              "\n",
              "      <svg width=\"800\" height=\"500\">\n",
              "        <rect width=\"100%\" height=\"100%\" fill=\"white\"/>\n",
              "        <line x1=\"400\" y1=\"250\" x2=\"587.939\" y2=\"318.404\" stroke-linecap=\"round\" style=\"stroke:orange;stroke-width:4\"/><line x1=\"587.939\" y1=\"318.404\" x2=\"517.462\" y2=\"292.752\" stroke-linecap=\"round\" style=\"stroke:orange;stroke-width:4\"/><line x1=\"517.462\" y1=\"292.752\" x2=\"467.669\" y2=\"250.971\" stroke-linecap=\"round\" style=\"stroke:orange;stroke-width:4\"/><line x1=\"467.669\" y1=\"250.971\" x2=\"440.169\" y2=\"203.34\" stroke-linecap=\"round\" style=\"stroke:orange;stroke-width:4\"/><line x1=\"440.169\" y1=\"203.34\" x2=\"432.355\" y2=\"159.024\" stroke-linecap=\"round\" style=\"stroke:orange;stroke-width:4\"/><line x1=\"432.355\" y1=\"159.024\" x2=\"438.433\" y2=\"124.556\" stroke-linecap=\"round\" style=\"stroke:orange;stroke-width:4\"/><line x1=\"438.433\" y1=\"124.556\" x2=\"450.933\" y2=\"102.905\" stroke-linecap=\"round\" style=\"stroke:orange;stroke-width:4\"/><line x1=\"450.933\" y1=\"102.905\" x2=\"462.424\" y2=\"93.263\" stroke-linecap=\"round\" style=\"stroke:orange;stroke-width:4\"/><line x1=\"462.424\" y1=\"93.263\" x2=\"450.933\" y2=\"102.905\" stroke-linecap=\"round\" style=\"stroke:orange;stroke-width:4\"/><line x1=\"450.933\" y1=\"102.905\" x2=\"453.538\" y2=\"88.133\" stroke-linecap=\"round\" style=\"stroke:orange;stroke-width:4\"/><line x1=\"453.538\" y1=\"88.133\" x2=\"450.933\" y2=\"102.905\" stroke-linecap=\"round\" style=\"stroke:orange;stroke-width:4\"/><line x1=\"450.933\" y1=\"102.905\" x2=\"438.433\" y2=\"124.556\" stroke-linecap=\"round\" style=\"stroke:orange;stroke-width:4\"/><line x1=\"438.433\" y1=\"124.556\" x2=\"434.092\" y2=\"99.936\" stroke-linecap=\"round\" style=\"stroke:orange;stroke-width:4\"/><line x1=\"434.092\" y1=\"99.936\" x2=\"436.697\" y2=\"85.164\" stroke-linecap=\"round\" style=\"stroke:orange;stroke-width:4\"/><line x1=\"436.697\" y1=\"85.164\" x2=\"434.092\" y2=\"99.936\" stroke-linecap=\"round\" style=\"stroke:orange;stroke-width:4\"/><line x1=\"434.092\" y1=\"99.936\" x2=\"426.592\" y2=\"86.946\" stroke-linecap=\"round\" style=\"stroke:orange;stroke-width:4\"/><line x1=\"426.592\" y1=\"86.946\" x2=\"434.092\" y2=\"99.936\" stroke-linecap=\"round\" style=\"stroke:orange;stroke-width:4\"/><line x1=\"434.092\" y1=\"99.936\" x2=\"438.433\" y2=\"124.556\" stroke-linecap=\"round\" style=\"stroke:orange;stroke-width:4\"/><line x1=\"438.433\" y1=\"124.556\" x2=\"432.355\" y2=\"159.024\" stroke-linecap=\"round\" style=\"stroke:orange;stroke-width:4\"/><line x1=\"432.355\" y1=\"159.024\" x2=\"414.855\" y2=\"128.713\" stroke-linecap=\"round\" style=\"stroke:orange;stroke-width:4\"/><line x1=\"414.855\" y1=\"128.713\" x2=\"410.514\" y2=\"104.093\" stroke-linecap=\"round\" style=\"stroke:orange;stroke-width:4\"/><line x1=\"410.514\" y1=\"104.093\" x2=\"413.119\" y2=\"89.321\" stroke-linecap=\"round\" style=\"stroke:orange;stroke-width:4\"/><line x1=\"413.119\" y1=\"89.321\" x2=\"410.514\" y2=\"104.093\" stroke-linecap=\"round\" style=\"stroke:orange;stroke-width:4\"/><line x1=\"410.514\" y1=\"104.093\" x2=\"403.014\" y2=\"91.103\" stroke-linecap=\"round\" style=\"stroke:orange;stroke-width:4\"/><line x1=\"403.014\" y1=\"91.103\" x2=\"410.514\" y2=\"104.093\" stroke-linecap=\"round\" style=\"stroke:orange;stroke-width:4\"/><line x1=\"410.514\" y1=\"104.093\" x2=\"414.855\" y2=\"128.713\" stroke-linecap=\"round\" style=\"stroke:orange;stroke-width:4\"/><line x1=\"414.855\" y1=\"128.713\" x2=\"395.704\" y2=\"112.643\" stroke-linecap=\"round\" style=\"stroke:orange;stroke-width:4\"/><line x1=\"395.704\" y1=\"112.643\" x2=\"388.204\" y2=\"99.653\" stroke-linecap=\"round\" style=\"stroke:orange;stroke-width:4\"/><line x1=\"388.204\" y1=\"99.653\" x2=\"395.704\" y2=\"112.643\" stroke-linecap=\"round\" style=\"stroke:orange;stroke-width:4\"/><line x1=\"395.704\" y1=\"112.643\" x2=\"381.609\" y2=\"107.513\" stroke-linecap=\"round\" style=\"stroke:orange;stroke-width:4\"/><line x1=\"381.609\" y1=\"107.513\" x2=\"395.704\" y2=\"112.643\" stroke-linecap=\"round\" style=\"stroke:orange;stroke-width:4\"/><line x1=\"395.704\" y1=\"112.643\" x2=\"414.855\" y2=\"128.713\" stroke-linecap=\"round\" style=\"stroke:orange;stroke-width:4\"/><line x1=\"414.855\" y1=\"128.713\" x2=\"432.355\" y2=\"159.024\" stroke-linecap=\"round\" style=\"stroke:orange;stroke-width:4\"/><line x1=\"432.355\" y1=\"159.024\" x2=\"440.169\" y2=\"203.34\" stroke-linecap=\"round\" style=\"stroke:orange;stroke-width:4\"/><line x1=\"440.169\" y1=\"203.34\" x2=\"405.697\" y2=\"174.415\" stroke-linecap=\"round\" style=\"stroke:orange;stroke-width:4\"/><line x1=\"405.697\" y1=\"174.415\" x2=\"388.197\" y2=\"144.104\" stroke-linecap=\"round\" style=\"stroke:orange;stroke-width:4\"/><line x1=\"388.197\" y1=\"144.104\" x2=\"383.856\" y2=\"119.484\" stroke-linecap=\"round\" style=\"stroke:orange;stroke-width:4\"/><line x1=\"383.856\" y1=\"119.484\" x2=\"386.461\" y2=\"104.712\" stroke-linecap=\"round\" style=\"stroke:orange;stroke-width:4\"/><line x1=\"386.461\" y1=\"104.712\" x2=\"383.856\" y2=\"119.484\" stroke-linecap=\"round\" style=\"stroke:orange;stroke-width:4\"/><line x1=\"383.856\" y1=\"119.484\" x2=\"376.356\" y2=\"106.494\" stroke-linecap=\"round\" style=\"stroke:orange;stroke-width:4\"/><line x1=\"376.356\" y1=\"106.494\" x2=\"383.856\" y2=\"119.484\" stroke-linecap=\"round\" style=\"stroke:orange;stroke-width:4\"/><line x1=\"383.856\" y1=\"119.484\" x2=\"388.197\" y2=\"144.104\" stroke-linecap=\"round\" style=\"stroke:orange;stroke-width:4\"/><line x1=\"388.197\" y1=\"144.104\" x2=\"369.046\" y2=\"128.034\" stroke-linecap=\"round\" style=\"stroke:orange;stroke-width:4\"/><line x1=\"369.046\" y1=\"128.034\" x2=\"361.546\" y2=\"115.044\" stroke-linecap=\"round\" style=\"stroke:orange;stroke-width:4\"/><line x1=\"361.546\" y1=\"115.044\" x2=\"369.046\" y2=\"128.034\" stroke-linecap=\"round\" style=\"stroke:orange;stroke-width:4\"/><line x1=\"369.046\" y1=\"128.034\" x2=\"354.951\" y2=\"122.904\" stroke-linecap=\"round\" style=\"stroke:orange;stroke-width:4\"/><line x1=\"354.951\" y1=\"122.904\" x2=\"369.046\" y2=\"128.034\" stroke-linecap=\"round\" style=\"stroke:orange;stroke-width:4\"/><line x1=\"369.046\" y1=\"128.034\" x2=\"388.197\" y2=\"144.104\" stroke-linecap=\"round\" style=\"stroke:orange;stroke-width:4\"/><line x1=\"388.197\" y1=\"144.104\" x2=\"405.697\" y2=\"174.415\" stroke-linecap=\"round\" style=\"stroke:orange;stroke-width:4\"/><line x1=\"405.697\" y1=\"174.415\" x2=\"372.808\" y2=\"162.444\" stroke-linecap=\"round\" style=\"stroke:orange;stroke-width:4\"/><line x1=\"372.808\" y1=\"162.444\" x2=\"353.657\" y2=\"146.374\" stroke-linecap=\"round\" style=\"stroke:orange;stroke-width:4\"/><line x1=\"353.657\" y1=\"146.374\" x2=\"346.157\" y2=\"133.384\" stroke-linecap=\"round\" style=\"stroke:orange;stroke-width:4\"/><line x1=\"346.157\" y1=\"133.384\" x2=\"353.657\" y2=\"146.374\" stroke-linecap=\"round\" style=\"stroke:orange;stroke-width:4\"/><line x1=\"353.657\" y1=\"146.374\" x2=\"339.562\" y2=\"141.244\" stroke-linecap=\"round\" style=\"stroke:orange;stroke-width:4\"/><line x1=\"339.562\" y1=\"141.244\" x2=\"353.657\" y2=\"146.374\" stroke-linecap=\"round\" style=\"stroke:orange;stroke-width:4\"/><line x1=\"353.657\" y1=\"146.374\" x2=\"372.808\" y2=\"162.444\" stroke-linecap=\"round\" style=\"stroke:orange;stroke-width:4\"/><line x1=\"372.808\" y1=\"162.444\" x2=\"347.808\" y2=\"162.444\" stroke-linecap=\"round\" style=\"stroke:orange;stroke-width:4\"/><line x1=\"347.808\" y1=\"162.444\" x2=\"333.713\" y2=\"157.314\" stroke-linecap=\"round\" style=\"stroke:orange;stroke-width:4\"/><line x1=\"333.713\" y1=\"157.314\" x2=\"347.808\" y2=\"162.444\" stroke-linecap=\"round\" style=\"stroke:orange;stroke-width:4\"/><line x1=\"347.808\" y1=\"162.444\" x2=\"333.713\" y2=\"167.574\" stroke-linecap=\"round\" style=\"stroke:orange;stroke-width:4\"/><line x1=\"333.713\" y1=\"167.574\" x2=\"347.808\" y2=\"162.444\" stroke-linecap=\"round\" style=\"stroke:orange;stroke-width:4\"/><line x1=\"347.808\" y1=\"162.444\" x2=\"372.808\" y2=\"162.444\" stroke-linecap=\"round\" style=\"stroke:orange;stroke-width:4\"/><line x1=\"372.808\" y1=\"162.444\" x2=\"405.697\" y2=\"174.415\" stroke-linecap=\"round\" style=\"stroke:orange;stroke-width:4\"/><line x1=\"405.697\" y1=\"174.415\" x2=\"440.169\" y2=\"203.34\" stroke-linecap=\"round\" style=\"stroke:orange;stroke-width:4\"/><line x1=\"440.169\" y1=\"203.34\" x2=\"467.669\" y2=\"250.971\" stroke-linecap=\"round\" style=\"stroke:orange;stroke-width:4\"/><line x1=\"467.669\" y1=\"250.971\" x2=\"415.986\" y2=\"232.16\" stroke-linecap=\"round\" style=\"stroke:orange;stroke-width:4\"/><line x1=\"415.986\" y1=\"232.16\" x2=\"381.514\" y2=\"203.235\" stroke-linecap=\"round\" style=\"stroke:orange;stroke-width:4\"/><line x1=\"381.514\" y1=\"203.235\" x2=\"364.014\" y2=\"172.924\" stroke-linecap=\"round\" style=\"stroke:orange;stroke-width:4\"/><line x1=\"364.014\" y1=\"172.924\" x2=\"359.673\" y2=\"148.304\" stroke-linecap=\"round\" style=\"stroke:orange;stroke-width:4\"/><line x1=\"359.673\" y1=\"148.304\" x2=\"362.278\" y2=\"133.532\" stroke-linecap=\"round\" style=\"stroke:orange;stroke-width:4\"/><line x1=\"362.278\" y1=\"133.532\" x2=\"359.673\" y2=\"148.304\" stroke-linecap=\"round\" style=\"stroke:orange;stroke-width:4\"/><line x1=\"359.673\" y1=\"148.304\" x2=\"352.173\" y2=\"135.314\" stroke-linecap=\"round\" style=\"stroke:orange;stroke-width:4\"/><line x1=\"352.173\" y1=\"135.314\" x2=\"359.673\" y2=\"148.304\" stroke-linecap=\"round\" style=\"stroke:orange;stroke-width:4\"/><line x1=\"359.673\" y1=\"148.304\" x2=\"364.014\" y2=\"172.924\" stroke-linecap=\"round\" style=\"stroke:orange;stroke-width:4\"/><line x1=\"364.014\" y1=\"172.924\" x2=\"344.863\" y2=\"156.854\" stroke-linecap=\"round\" style=\"stroke:orange;stroke-width:4\"/><line x1=\"344.863\" y1=\"156.854\" x2=\"337.363\" y2=\"143.864\" stroke-linecap=\"round\" style=\"stroke:orange;stroke-width:4\"/><line x1=\"337.363\" y1=\"143.864\" x2=\"344.863\" y2=\"156.854\" stroke-linecap=\"round\" style=\"stroke:orange;stroke-width:4\"/><line x1=\"344.863\" y1=\"156.854\" x2=\"330.768\" y2=\"151.724\" stroke-linecap=\"round\" style=\"stroke:orange;stroke-width:4\"/><line x1=\"330.768\" y1=\"151.724\" x2=\"344.863\" y2=\"156.854\" stroke-linecap=\"round\" style=\"stroke:orange;stroke-width:4\"/><line x1=\"344.863\" y1=\"156.854\" x2=\"364.014\" y2=\"172.924\" stroke-linecap=\"round\" style=\"stroke:orange;stroke-width:4\"/><line x1=\"364.014\" y1=\"172.924\" x2=\"381.514\" y2=\"203.235\" stroke-linecap=\"round\" style=\"stroke:orange;stroke-width:4\"/><line x1=\"381.514\" y1=\"203.235\" x2=\"348.625\" y2=\"191.264\" stroke-linecap=\"round\" style=\"stroke:orange;stroke-width:4\"/><line x1=\"348.625\" y1=\"191.264\" x2=\"329.474\" y2=\"175.194\" stroke-linecap=\"round\" style=\"stroke:orange;stroke-width:4\"/><line x1=\"329.474\" y1=\"175.194\" x2=\"321.974\" y2=\"162.204\" stroke-linecap=\"round\" style=\"stroke:orange;stroke-width:4\"/><line x1=\"321.974\" y1=\"162.204\" x2=\"329.474\" y2=\"175.194\" stroke-linecap=\"round\" style=\"stroke:orange;stroke-width:4\"/><line x1=\"329.474\" y1=\"175.194\" x2=\"315.379\" y2=\"170.064\" stroke-linecap=\"round\" style=\"stroke:orange;stroke-width:4\"/><line x1=\"315.379\" y1=\"170.064\" x2=\"329.474\" y2=\"175.194\" stroke-linecap=\"round\" style=\"stroke:orange;stroke-width:4\"/><line x1=\"329.474\" y1=\"175.194\" x2=\"348.625\" y2=\"191.264\" stroke-linecap=\"round\" style=\"stroke:orange;stroke-width:4\"/><line x1=\"348.625\" y1=\"191.264\" x2=\"323.625\" y2=\"191.264\" stroke-linecap=\"round\" style=\"stroke:orange;stroke-width:4\"/><line x1=\"323.625\" y1=\"191.264\" x2=\"309.53\" y2=\"186.134\" stroke-linecap=\"round\" style=\"stroke:orange;stroke-width:4\"/><line x1=\"309.53\" y1=\"186.134\" x2=\"323.625\" y2=\"191.264\" stroke-linecap=\"round\" style=\"stroke:orange;stroke-width:4\"/><line x1=\"323.625\" y1=\"191.264\" x2=\"309.53\" y2=\"196.394\" stroke-linecap=\"round\" style=\"stroke:orange;stroke-width:4\"/><line x1=\"309.53\" y1=\"196.394\" x2=\"323.625\" y2=\"191.264\" stroke-linecap=\"round\" style=\"stroke:orange;stroke-width:4\"/><line x1=\"323.625\" y1=\"191.264\" x2=\"348.625\" y2=\"191.264\" stroke-linecap=\"round\" style=\"stroke:orange;stroke-width:4\"/><line x1=\"348.625\" y1=\"191.264\" x2=\"381.514\" y2=\"203.235\" stroke-linecap=\"round\" style=\"stroke:orange;stroke-width:4\"/><line x1=\"381.514\" y1=\"203.235\" x2=\"415.986\" y2=\"232.16\" stroke-linecap=\"round\" style=\"stroke:orange;stroke-width:4\"/><line x1=\"415.986\" y1=\"232.16\" x2=\"370.986\" y2=\"232.16\" stroke-linecap=\"round\" style=\"stroke:orange;stroke-width:4\"/><line x1=\"370.986\" y1=\"232.16\" x2=\"338.097\" y2=\"220.189\" stroke-linecap=\"round\" style=\"stroke:orange;stroke-width:4\"/><line x1=\"338.097\" y1=\"220.189\" x2=\"318.946\" y2=\"204.119\" stroke-linecap=\"round\" style=\"stroke:orange;stroke-width:4\"/><line x1=\"318.946\" y1=\"204.119\" x2=\"311.446\" y2=\"191.129\" stroke-linecap=\"round\" style=\"stroke:orange;stroke-width:4\"/><line x1=\"311.446\" y1=\"191.129\" x2=\"318.946\" y2=\"204.119\" stroke-linecap=\"round\" style=\"stroke:orange;stroke-width:4\"/><line x1=\"318.946\" y1=\"204.119\" x2=\"304.851\" y2=\"198.989\" stroke-linecap=\"round\" style=\"stroke:orange;stroke-width:4\"/><line x1=\"304.851\" y1=\"198.989\" x2=\"318.946\" y2=\"204.119\" stroke-linecap=\"round\" style=\"stroke:orange;stroke-width:4\"/><line x1=\"318.946\" y1=\"204.119\" x2=\"338.097\" y2=\"220.189\" stroke-linecap=\"round\" style=\"stroke:orange;stroke-width:4\"/><line x1=\"338.097\" y1=\"220.189\" x2=\"313.097\" y2=\"220.189\" stroke-linecap=\"round\" style=\"stroke:orange;stroke-width:4\"/><line x1=\"313.097\" y1=\"220.189\" x2=\"299.002\" y2=\"215.059\" stroke-linecap=\"round\" style=\"stroke:orange;stroke-width:4\"/><line x1=\"299.002\" y1=\"215.059\" x2=\"313.097\" y2=\"220.189\" stroke-linecap=\"round\" style=\"stroke:orange;stroke-width:4\"/><line x1=\"313.097\" y1=\"220.189\" x2=\"299.002\" y2=\"225.319\" stroke-linecap=\"round\" style=\"stroke:orange;stroke-width:4\"/><line x1=\"299.002\" y1=\"225.319\" x2=\"313.097\" y2=\"220.189\" stroke-linecap=\"round\" style=\"stroke:orange;stroke-width:4\"/><line x1=\"313.097\" y1=\"220.189\" x2=\"338.097\" y2=\"220.189\" stroke-linecap=\"round\" style=\"stroke:orange;stroke-width:4\"/><line x1=\"338.097\" y1=\"220.189\" x2=\"370.986\" y2=\"232.16\" stroke-linecap=\"round\" style=\"stroke:orange;stroke-width:4\"/><line x1=\"370.986\" y1=\"232.16\" x2=\"338.097\" y2=\"244.131\" stroke-linecap=\"round\" style=\"stroke:orange;stroke-width:4\"/><line x1=\"338.097\" y1=\"244.131\" x2=\"313.097\" y2=\"244.131\" stroke-linecap=\"round\" style=\"stroke:orange;stroke-width:4\"/><line x1=\"313.097\" y1=\"244.131\" x2=\"299.002\" y2=\"239.001\" stroke-linecap=\"round\" style=\"stroke:orange;stroke-width:4\"/><line x1=\"299.002\" y1=\"239.001\" x2=\"313.097\" y2=\"244.131\" stroke-linecap=\"round\" style=\"stroke:orange;stroke-width:4\"/><line x1=\"313.097\" y1=\"244.131\" x2=\"299.002\" y2=\"249.261\" stroke-linecap=\"round\" style=\"stroke:orange;stroke-width:4\"/><line x1=\"299.002\" y1=\"249.261\" x2=\"313.097\" y2=\"244.131\" stroke-linecap=\"round\" style=\"stroke:orange;stroke-width:4\"/><line x1=\"313.097\" y1=\"244.131\" x2=\"338.097\" y2=\"244.131\" stroke-linecap=\"round\" style=\"stroke:orange;stroke-width:4\"/><line x1=\"338.097\" y1=\"244.131\" x2=\"318.946\" y2=\"260.201\" stroke-linecap=\"round\" style=\"stroke:orange;stroke-width:4\"/><line x1=\"318.946\" y1=\"260.201\" x2=\"304.851\" y2=\"265.331\" stroke-linecap=\"round\" style=\"stroke:orange;stroke-width:4\"/><line x1=\"304.851\" y1=\"265.331\" x2=\"318.946\" y2=\"260.201\" stroke-linecap=\"round\" style=\"stroke:orange;stroke-width:4\"/><line x1=\"318.946\" y1=\"260.201\" x2=\"311.446\" y2=\"273.191\" stroke-linecap=\"round\" style=\"stroke:orange;stroke-width:4\"/><line x1=\"311.446\" y1=\"273.191\" x2=\"318.946\" y2=\"260.201\" stroke-linecap=\"round\" style=\"stroke:orange;stroke-width:4\"/><line x1=\"318.946\" y1=\"260.201\" x2=\"338.097\" y2=\"244.131\" stroke-linecap=\"round\" style=\"stroke:orange;stroke-width:4\"/><line x1=\"338.097\" y1=\"244.131\" x2=\"370.986\" y2=\"232.16\" stroke-linecap=\"round\" style=\"stroke:orange;stroke-width:4\"/><line x1=\"370.986\" y1=\"232.16\" x2=\"415.986\" y2=\"232.16\" stroke-linecap=\"round\" style=\"stroke:orange;stroke-width:4\"/><line x1=\"415.986\" y1=\"232.16\" x2=\"467.669\" y2=\"250.971\" stroke-linecap=\"round\" style=\"stroke:orange;stroke-width:4\"/><line x1=\"467.669\" y1=\"250.971\" x2=\"517.462\" y2=\"292.752\" stroke-linecap=\"round\" style=\"stroke:orange;stroke-width:4\"/><line x1=\"517.462\" y1=\"292.752\" x2=\"452.462\" y2=\"292.752\" stroke-linecap=\"round\" style=\"stroke:orange;stroke-width:4\"/><line x1=\"452.462\" y1=\"292.752\" x2=\"400.779\" y2=\"273.941\" stroke-linecap=\"round\" style=\"stroke:orange;stroke-width:4\"/><line x1=\"400.779\" y1=\"273.941\" x2=\"366.307\" y2=\"245.016\" stroke-linecap=\"round\" style=\"stroke:orange;stroke-width:4\"/><line x1=\"366.307\" y1=\"245.016\" x2=\"348.807\" y2=\"214.705\" stroke-linecap=\"round\" style=\"stroke:orange;stroke-width:4\"/><line x1=\"348.807\" y1=\"214.705\" x2=\"344.466\" y2=\"190.085\" stroke-linecap=\"round\" style=\"stroke:orange;stroke-width:4\"/><line x1=\"344.466\" y1=\"190.085\" x2=\"347.071\" y2=\"175.313\" stroke-linecap=\"round\" style=\"stroke:orange;stroke-width:4\"/><line x1=\"347.071\" y1=\"175.313\" x2=\"344.466\" y2=\"190.085\" stroke-linecap=\"round\" style=\"stroke:orange;stroke-width:4\"/><line x1=\"344.466\" y1=\"190.085\" x2=\"336.966\" y2=\"177.095\" stroke-linecap=\"round\" style=\"stroke:orange;stroke-width:4\"/><line x1=\"336.966\" y1=\"177.095\" x2=\"344.466\" y2=\"190.085\" stroke-linecap=\"round\" style=\"stroke:orange;stroke-width:4\"/><line x1=\"344.466\" y1=\"190.085\" x2=\"348.807\" y2=\"214.705\" stroke-linecap=\"round\" style=\"stroke:orange;stroke-width:4\"/><line x1=\"348.807\" y1=\"214.705\" x2=\"329.656\" y2=\"198.635\" stroke-linecap=\"round\" style=\"stroke:orange;stroke-width:4\"/><line x1=\"329.656\" y1=\"198.635\" x2=\"322.156\" y2=\"185.645\" stroke-linecap=\"round\" style=\"stroke:orange;stroke-width:4\"/><line x1=\"322.156\" y1=\"185.645\" x2=\"329.656\" y2=\"198.635\" stroke-linecap=\"round\" style=\"stroke:orange;stroke-width:4\"/><line x1=\"329.656\" y1=\"198.635\" x2=\"315.561\" y2=\"193.505\" stroke-linecap=\"round\" style=\"stroke:orange;stroke-width:4\"/><line x1=\"315.561\" y1=\"193.505\" x2=\"329.656\" y2=\"198.635\" stroke-linecap=\"round\" style=\"stroke:orange;stroke-width:4\"/><line x1=\"329.656\" y1=\"198.635\" x2=\"348.807\" y2=\"214.705\" stroke-linecap=\"round\" style=\"stroke:orange;stroke-width:4\"/><line x1=\"348.807\" y1=\"214.705\" x2=\"366.307\" y2=\"245.016\" stroke-linecap=\"round\" style=\"stroke:orange;stroke-width:4\"/><line x1=\"366.307\" y1=\"245.016\" x2=\"333.418\" y2=\"233.045\" stroke-linecap=\"round\" style=\"stroke:orange;stroke-width:4\"/><line x1=\"333.418\" y1=\"233.045\" x2=\"314.267\" y2=\"216.975\" stroke-linecap=\"round\" style=\"stroke:orange;stroke-width:4\"/><line x1=\"314.267\" y1=\"216.975\" x2=\"306.767\" y2=\"203.985\" stroke-linecap=\"round\" style=\"stroke:orange;stroke-width:4\"/><line x1=\"306.767\" y1=\"203.985\" x2=\"314.267\" y2=\"216.975\" stroke-linecap=\"round\" style=\"stroke:orange;stroke-width:4\"/><line x1=\"314.267\" y1=\"216.975\" x2=\"300.172\" y2=\"211.845\" stroke-linecap=\"round\" style=\"stroke:orange;stroke-width:4\"/><line x1=\"300.172\" y1=\"211.845\" x2=\"314.267\" y2=\"216.975\" stroke-linecap=\"round\" style=\"stroke:orange;stroke-width:4\"/><line x1=\"314.267\" y1=\"216.975\" x2=\"333.418\" y2=\"233.045\" stroke-linecap=\"round\" style=\"stroke:orange;stroke-width:4\"/><line x1=\"333.418\" y1=\"233.045\" x2=\"308.418\" y2=\"233.045\" stroke-linecap=\"round\" style=\"stroke:orange;stroke-width:4\"/><line x1=\"308.418\" y1=\"233.045\" x2=\"294.323\" y2=\"227.915\" stroke-linecap=\"round\" style=\"stroke:orange;stroke-width:4\"/><line x1=\"294.323\" y1=\"227.915\" x2=\"308.418\" y2=\"233.045\" stroke-linecap=\"round\" style=\"stroke:orange;stroke-width:4\"/><line x1=\"308.418\" y1=\"233.045\" x2=\"294.323\" y2=\"238.175\" stroke-linecap=\"round\" style=\"stroke:orange;stroke-width:4\"/><line x1=\"294.323\" y1=\"238.175\" x2=\"308.418\" y2=\"233.045\" stroke-linecap=\"round\" style=\"stroke:orange;stroke-width:4\"/><line x1=\"308.418\" y1=\"233.045\" x2=\"333.418\" y2=\"233.045\" stroke-linecap=\"round\" style=\"stroke:orange;stroke-width:4\"/><line x1=\"333.418\" y1=\"233.045\" x2=\"366.307\" y2=\"245.016\" stroke-linecap=\"round\" style=\"stroke:orange;stroke-width:4\"/><line x1=\"366.307\" y1=\"245.016\" x2=\"400.779\" y2=\"273.941\" stroke-linecap=\"round\" style=\"stroke:orange;stroke-width:4\"/><line x1=\"400.779\" y1=\"273.941\" x2=\"355.779\" y2=\"273.941\" stroke-linecap=\"round\" style=\"stroke:orange;stroke-width:4\"/><line x1=\"355.779\" y1=\"273.941\" x2=\"322.89\" y2=\"261.97\" stroke-linecap=\"round\" style=\"stroke:orange;stroke-width:4\"/><line x1=\"322.89\" y1=\"261.97\" x2=\"303.739\" y2=\"245.9\" stroke-linecap=\"round\" style=\"stroke:orange;stroke-width:4\"/><line x1=\"303.739\" y1=\"245.9\" x2=\"296.239\" y2=\"232.91\" stroke-linecap=\"round\" style=\"stroke:orange;stroke-width:4\"/><line x1=\"296.239\" y1=\"232.91\" x2=\"303.739\" y2=\"245.9\" stroke-linecap=\"round\" style=\"stroke:orange;stroke-width:4\"/><line x1=\"303.739\" y1=\"245.9\" x2=\"289.644\" y2=\"240.77\" stroke-linecap=\"round\" style=\"stroke:orange;stroke-width:4\"/><line x1=\"289.644\" y1=\"240.77\" x2=\"303.739\" y2=\"245.9\" stroke-linecap=\"round\" style=\"stroke:orange;stroke-width:4\"/><line x1=\"303.739\" y1=\"245.9\" x2=\"322.89\" y2=\"261.97\" stroke-linecap=\"round\" style=\"stroke:orange;stroke-width:4\"/><line x1=\"322.89\" y1=\"261.97\" x2=\"297.89\" y2=\"261.97\" stroke-linecap=\"round\" style=\"stroke:orange;stroke-width:4\"/><line x1=\"297.89\" y1=\"261.97\" x2=\"283.795\" y2=\"256.84\" stroke-linecap=\"round\" style=\"stroke:orange;stroke-width:4\"/><line x1=\"283.795\" y1=\"256.84\" x2=\"297.89\" y2=\"261.97\" stroke-linecap=\"round\" style=\"stroke:orange;stroke-width:4\"/><line x1=\"297.89\" y1=\"261.97\" x2=\"283.795\" y2=\"267.1\" stroke-linecap=\"round\" style=\"stroke:orange;stroke-width:4\"/><line x1=\"283.795\" y1=\"267.1\" x2=\"297.89\" y2=\"261.97\" stroke-linecap=\"round\" style=\"stroke:orange;stroke-width:4\"/><line x1=\"297.89\" y1=\"261.97\" x2=\"322.89\" y2=\"261.97\" stroke-linecap=\"round\" style=\"stroke:orange;stroke-width:4\"/><line x1=\"322.89\" y1=\"261.97\" x2=\"355.779\" y2=\"273.941\" stroke-linecap=\"round\" style=\"stroke:orange;stroke-width:4\"/><line x1=\"355.779\" y1=\"273.941\" x2=\"322.89\" y2=\"285.912\" stroke-linecap=\"round\" style=\"stroke:orange;stroke-width:4\"/><line x1=\"322.89\" y1=\"285.912\" x2=\"297.89\" y2=\"285.912\" stroke-linecap=\"round\" style=\"stroke:orange;stroke-width:4\"/><line x1=\"297.89\" y1=\"285.912\" x2=\"283.795\" y2=\"280.782\" stroke-linecap=\"round\" style=\"stroke:orange;stroke-width:4\"/><line x1=\"283.795\" y1=\"280.782\" x2=\"297.89\" y2=\"285.912\" stroke-linecap=\"round\" style=\"stroke:orange;stroke-width:4\"/><line x1=\"297.89\" y1=\"285.912\" x2=\"283.795\" y2=\"291.042\" stroke-linecap=\"round\" style=\"stroke:orange;stroke-width:4\"/><line x1=\"283.795\" y1=\"291.042\" x2=\"297.89\" y2=\"285.912\" stroke-linecap=\"round\" style=\"stroke:orange;stroke-width:4\"/><line x1=\"297.89\" y1=\"285.912\" x2=\"322.89\" y2=\"285.912\" stroke-linecap=\"round\" style=\"stroke:orange;stroke-width:4\"/><line x1=\"322.89\" y1=\"285.912\" x2=\"303.739\" y2=\"301.982\" stroke-linecap=\"round\" style=\"stroke:orange;stroke-width:4\"/><line x1=\"303.739\" y1=\"301.982\" x2=\"289.644\" y2=\"307.112\" stroke-linecap=\"round\" style=\"stroke:orange;stroke-width:4\"/><line x1=\"289.644\" y1=\"307.112\" x2=\"303.739\" y2=\"301.982\" stroke-linecap=\"round\" style=\"stroke:orange;stroke-width:4\"/><line x1=\"303.739\" y1=\"301.982\" x2=\"296.239\" y2=\"314.972\" stroke-linecap=\"round\" style=\"stroke:orange;stroke-width:4\"/><line x1=\"296.239\" y1=\"314.972\" x2=\"303.739\" y2=\"301.982\" stroke-linecap=\"round\" style=\"stroke:orange;stroke-width:4\"/><line x1=\"303.739\" y1=\"301.982\" x2=\"322.89\" y2=\"285.912\" stroke-linecap=\"round\" style=\"stroke:orange;stroke-width:4\"/><line x1=\"322.89\" y1=\"285.912\" x2=\"355.779\" y2=\"273.941\" stroke-linecap=\"round\" style=\"stroke:orange;stroke-width:4\"/><line x1=\"355.779\" y1=\"273.941\" x2=\"400.779\" y2=\"273.941\" stroke-linecap=\"round\" style=\"stroke:orange;stroke-width:4\"/><line x1=\"400.779\" y1=\"273.941\" x2=\"452.462\" y2=\"292.752\" stroke-linecap=\"round\" style=\"stroke:orange;stroke-width:4\"/><line x1=\"452.462\" y1=\"292.752\" x2=\"400.779\" y2=\"311.563\" stroke-linecap=\"round\" style=\"stroke:orange;stroke-width:4\"/><line x1=\"400.779\" y1=\"311.563\" x2=\"355.779\" y2=\"311.563\" stroke-linecap=\"round\" style=\"stroke:orange;stroke-width:4\"/><line x1=\"355.779\" y1=\"311.563\" x2=\"322.89\" y2=\"299.592\" stroke-linecap=\"round\" style=\"stroke:orange;stroke-width:4\"/><line x1=\"322.89\" y1=\"299.592\" x2=\"303.739\" y2=\"283.522\" stroke-linecap=\"round\" style=\"stroke:orange;stroke-width:4\"/><line x1=\"303.739\" y1=\"283.522\" x2=\"296.239\" y2=\"270.532\" stroke-linecap=\"round\" style=\"stroke:orange;stroke-width:4\"/><line x1=\"296.239\" y1=\"270.532\" x2=\"303.739\" y2=\"283.522\" stroke-linecap=\"round\" style=\"stroke:orange;stroke-width:4\"/><line x1=\"303.739\" y1=\"283.522\" x2=\"289.644\" y2=\"278.392\" stroke-linecap=\"round\" style=\"stroke:orange;stroke-width:4\"/><line x1=\"289.644\" y1=\"278.392\" x2=\"303.739\" y2=\"283.522\" stroke-linecap=\"round\" style=\"stroke:orange;stroke-width:4\"/><line x1=\"303.739\" y1=\"283.522\" x2=\"322.89\" y2=\"299.592\" stroke-linecap=\"round\" style=\"stroke:orange;stroke-width:4\"/><line x1=\"322.89\" y1=\"299.592\" x2=\"297.89\" y2=\"299.592\" stroke-linecap=\"round\" style=\"stroke:orange;stroke-width:4\"/><line x1=\"297.89\" y1=\"299.592\" x2=\"283.795\" y2=\"294.462\" stroke-linecap=\"round\" style=\"stroke:orange;stroke-width:4\"/><line x1=\"283.795\" y1=\"294.462\" x2=\"297.89\" y2=\"299.592\" stroke-linecap=\"round\" style=\"stroke:orange;stroke-width:4\"/><line x1=\"297.89\" y1=\"299.592\" x2=\"283.795\" y2=\"304.722\" stroke-linecap=\"round\" style=\"stroke:orange;stroke-width:4\"/><line x1=\"283.795\" y1=\"304.722\" x2=\"297.89\" y2=\"299.592\" stroke-linecap=\"round\" style=\"stroke:orange;stroke-width:4\"/><line x1=\"297.89\" y1=\"299.592\" x2=\"322.89\" y2=\"299.592\" stroke-linecap=\"round\" style=\"stroke:orange;stroke-width:4\"/><line x1=\"322.89\" y1=\"299.592\" x2=\"355.779\" y2=\"311.563\" stroke-linecap=\"round\" style=\"stroke:orange;stroke-width:4\"/><line x1=\"355.779\" y1=\"311.563\" x2=\"322.89\" y2=\"323.534\" stroke-linecap=\"round\" style=\"stroke:orange;stroke-width:4\"/><line x1=\"322.89\" y1=\"323.534\" x2=\"297.89\" y2=\"323.534\" stroke-linecap=\"round\" style=\"stroke:orange;stroke-width:4\"/><line x1=\"297.89\" y1=\"323.534\" x2=\"283.795\" y2=\"318.404\" stroke-linecap=\"round\" style=\"stroke:orange;stroke-width:4\"/><line x1=\"283.795\" y1=\"318.404\" x2=\"297.89\" y2=\"323.534\" stroke-linecap=\"round\" style=\"stroke:orange;stroke-width:4\"/><line x1=\"297.89\" y1=\"323.534\" x2=\"283.795\" y2=\"328.664\" stroke-linecap=\"round\" style=\"stroke:orange;stroke-width:4\"/><line x1=\"283.795\" y1=\"328.664\" x2=\"297.89\" y2=\"323.534\" stroke-linecap=\"round\" style=\"stroke:orange;stroke-width:4\"/><line x1=\"297.89\" y1=\"323.534\" x2=\"322.89\" y2=\"323.534\" stroke-linecap=\"round\" style=\"stroke:orange;stroke-width:4\"/><line x1=\"322.89\" y1=\"323.534\" x2=\"303.739\" y2=\"339.604\" stroke-linecap=\"round\" style=\"stroke:orange;stroke-width:4\"/><line x1=\"303.739\" y1=\"339.604\" x2=\"289.644\" y2=\"344.734\" stroke-linecap=\"round\" style=\"stroke:orange;stroke-width:4\"/><line x1=\"289.644\" y1=\"344.734\" x2=\"303.739\" y2=\"339.604\" stroke-linecap=\"round\" style=\"stroke:orange;stroke-width:4\"/><line x1=\"303.739\" y1=\"339.604\" x2=\"296.239\" y2=\"352.594\" stroke-linecap=\"round\" style=\"stroke:orange;stroke-width:4\"/><line x1=\"296.239\" y1=\"352.594\" x2=\"303.739\" y2=\"339.604\" stroke-linecap=\"round\" style=\"stroke:orange;stroke-width:4\"/><line x1=\"303.739\" y1=\"339.604\" x2=\"322.89\" y2=\"323.534\" stroke-linecap=\"round\" style=\"stroke:orange;stroke-width:4\"/><line x1=\"322.89\" y1=\"323.534\" x2=\"355.779\" y2=\"311.563\" stroke-linecap=\"round\" style=\"stroke:orange;stroke-width:4\"/><line x1=\"355.779\" y1=\"311.563\" x2=\"400.779\" y2=\"311.563\" stroke-linecap=\"round\" style=\"stroke:orange;stroke-width:4\"/><line x1=\"400.779\" y1=\"311.563\" x2=\"366.307\" y2=\"340.488\" stroke-linecap=\"round\" style=\"stroke:orange;stroke-width:4\"/><line x1=\"366.307\" y1=\"340.488\" x2=\"333.418\" y2=\"352.459\" stroke-linecap=\"round\" style=\"stroke:orange;stroke-width:4\"/><line x1=\"333.418\" y1=\"352.459\" x2=\"308.418\" y2=\"352.459\" stroke-linecap=\"round\" style=\"stroke:orange;stroke-width:4\"/><line x1=\"308.418\" y1=\"352.459\" x2=\"294.323\" y2=\"347.329\" stroke-linecap=\"round\" style=\"stroke:orange;stroke-width:4\"/><line x1=\"294.323\" y1=\"347.329\" x2=\"308.418\" y2=\"352.459\" stroke-linecap=\"round\" style=\"stroke:orange;stroke-width:4\"/><line x1=\"308.418\" y1=\"352.459\" x2=\"294.323\" y2=\"357.589\" stroke-linecap=\"round\" style=\"stroke:orange;stroke-width:4\"/><line x1=\"294.323\" y1=\"357.589\" x2=\"308.418\" y2=\"352.459\" stroke-linecap=\"round\" style=\"stroke:orange;stroke-width:4\"/><line x1=\"308.418\" y1=\"352.459\" x2=\"333.418\" y2=\"352.459\" stroke-linecap=\"round\" style=\"stroke:orange;stroke-width:4\"/><line x1=\"333.418\" y1=\"352.459\" x2=\"314.267\" y2=\"368.529\" stroke-linecap=\"round\" style=\"stroke:orange;stroke-width:4\"/><line x1=\"314.267\" y1=\"368.529\" x2=\"300.172\" y2=\"373.659\" stroke-linecap=\"round\" style=\"stroke:orange;stroke-width:4\"/><line x1=\"300.172\" y1=\"373.659\" x2=\"314.267\" y2=\"368.529\" stroke-linecap=\"round\" style=\"stroke:orange;stroke-width:4\"/><line x1=\"314.267\" y1=\"368.529\" x2=\"306.767\" y2=\"381.519\" stroke-linecap=\"round\" style=\"stroke:orange;stroke-width:4\"/><line x1=\"306.767\" y1=\"381.519\" x2=\"314.267\" y2=\"368.529\" stroke-linecap=\"round\" style=\"stroke:orange;stroke-width:4\"/><line x1=\"314.267\" y1=\"368.529\" x2=\"333.418\" y2=\"352.459\" stroke-linecap=\"round\" style=\"stroke:orange;stroke-width:4\"/><line x1=\"333.418\" y1=\"352.459\" x2=\"366.307\" y2=\"340.488\" stroke-linecap=\"round\" style=\"stroke:orange;stroke-width:4\"/><line x1=\"366.307\" y1=\"340.488\" x2=\"348.807\" y2=\"370.799\" stroke-linecap=\"round\" style=\"stroke:orange;stroke-width:4\"/><line x1=\"348.807\" y1=\"370.799\" x2=\"329.656\" y2=\"386.869\" stroke-linecap=\"round\" style=\"stroke:orange;stroke-width:4\"/><line x1=\"329.656\" y1=\"386.869\" x2=\"315.561\" y2=\"391.999\" stroke-linecap=\"round\" style=\"stroke:orange;stroke-width:4\"/><line x1=\"315.561\" y1=\"391.999\" x2=\"329.656\" y2=\"386.869\" stroke-linecap=\"round\" style=\"stroke:orange;stroke-width:4\"/><line x1=\"329.656\" y1=\"386.869\" x2=\"322.156\" y2=\"399.859\" stroke-linecap=\"round\" style=\"stroke:orange;stroke-width:4\"/><line x1=\"322.156\" y1=\"399.859\" x2=\"329.656\" y2=\"386.869\" stroke-linecap=\"round\" style=\"stroke:orange;stroke-width:4\"/><line x1=\"329.656\" y1=\"386.869\" x2=\"348.807\" y2=\"370.799\" stroke-linecap=\"round\" style=\"stroke:orange;stroke-width:4\"/><line x1=\"348.807\" y1=\"370.799\" x2=\"344.466\" y2=\"395.419\" stroke-linecap=\"round\" style=\"stroke:orange;stroke-width:4\"/><line x1=\"344.466\" y1=\"395.419\" x2=\"336.966\" y2=\"408.409\" stroke-linecap=\"round\" style=\"stroke:orange;stroke-width:4\"/><line x1=\"336.966\" y1=\"408.409\" x2=\"344.466\" y2=\"395.419\" stroke-linecap=\"round\" style=\"stroke:orange;stroke-width:4\"/><line x1=\"344.466\" y1=\"395.419\" x2=\"347.071\" y2=\"410.191\" stroke-linecap=\"round\" style=\"stroke:orange;stroke-width:4\"/><line x1=\"347.071\" y1=\"410.191\" x2=\"344.466\" y2=\"395.419\" stroke-linecap=\"round\" style=\"stroke:orange;stroke-width:4\"/><line x1=\"344.466\" y1=\"395.419\" x2=\"348.807\" y2=\"370.799\" stroke-linecap=\"round\" style=\"stroke:orange;stroke-width:4\"/><line x1=\"348.807\" y1=\"370.799\" x2=\"366.307\" y2=\"340.488\" stroke-linecap=\"round\" style=\"stroke:orange;stroke-width:4\"/><line x1=\"366.307\" y1=\"340.488\" x2=\"400.779\" y2=\"311.563\" stroke-linecap=\"round\" style=\"stroke:orange;stroke-width:4\"/><line x1=\"400.779\" y1=\"311.563\" x2=\"452.462\" y2=\"292.752\" stroke-linecap=\"round\" style=\"stroke:orange;stroke-width:4\"/><line x1=\"452.462\" y1=\"292.752\" x2=\"517.462\" y2=\"292.752\" stroke-linecap=\"round\" style=\"stroke:orange;stroke-width:4\"/><line x1=\"517.462\" y1=\"292.752\" x2=\"587.939\" y2=\"318.404\" stroke-linecap=\"round\" style=\"stroke:orange;stroke-width:4\"/>\n",
              "        <g visibility=visible transform=\"rotate(290,587.939,318.404) translate(569.939, 300.404)\">\n",
              "<path style=\" stroke:none;fill-rule:evenodd;fill:orange;fill-opacity:1;\" d=\"M 18.214844 0.632812 C 16.109375 1.800781 15.011719 4.074219 15.074219 7.132812 L 15.085938 7.652344 L 14.785156 7.496094 C 13.476562 6.824219 11.957031 6.671875 10.40625 7.066406 C 8.46875 7.550781 6.515625 9.15625 4.394531 11.992188 C 3.0625 13.777344 2.679688 14.636719 3.042969 15.027344 L 3.15625 15.152344 L 3.519531 15.152344 C 4.238281 15.152344 4.828125 14.886719 8.1875 13.039062 C 9.386719 12.378906 10.371094 11.839844 10.378906 11.839844 C 10.386719 11.839844 10.355469 11.929688 10.304688 12.035156 C 9.832031 13.09375 9.257812 14.820312 8.96875 16.078125 C 7.914062 20.652344 8.617188 24.53125 11.070312 27.660156 C 11.351562 28.015625 11.363281 27.914062 10.972656 28.382812 C 8.925781 30.84375 7.945312 33.28125 8.238281 35.1875 C 8.289062 35.527344 8.28125 35.523438 8.917969 35.523438 C 10.941406 35.523438 13.074219 34.207031 15.136719 31.6875 C 15.359375 31.417969 15.328125 31.425781 15.5625 31.574219 C 16.292969 32.042969 18.023438 32.964844 18.175781 32.964844 C 18.335938 32.964844 19.941406 32.210938 20.828125 31.71875 C 20.996094 31.625 21.136719 31.554688 21.136719 31.558594 C 21.203125 31.664062 21.898438 32.414062 22.222656 32.730469 C 23.835938 34.300781 25.5625 35.132812 27.582031 35.300781 C 27.90625 35.328125 27.9375 35.308594 28.007812 34.984375 C 28.382812 33.242188 27.625 30.925781 25.863281 28.425781 L 25.542969 27.96875 L 25.699219 27.785156 C 28.945312 23.960938 29.132812 18.699219 26.257812 11.96875 L 26.207031 11.84375 L 27.945312 12.703125 C 31.53125 14.476562 32.316406 14.800781 33.03125 14.800781 C 33.976562 14.800781 33.78125 13.9375 32.472656 12.292969 C 28.519531 7.355469 25.394531 5.925781 21.921875 7.472656 L 21.558594 7.636719 L 21.578125 7.542969 C 21.699219 6.992188 21.761719 5.742188 21.699219 5.164062 C 21.496094 3.296875 20.664062 1.964844 19.003906 0.855469 C 18.480469 0.503906 18.457031 0.5 18.214844 0.632812\"/>\n",
              "</g>\n",
              "      </svg>\n",
              "    "
            ]
          },
          "metadata": {}
        }
      ],
      "source": [
        "t.initializeTurtle(initial_speed=10)\n",
        "t.color('orange')\n",
        "t.bgcolor('white')\n",
        "\n",
        "def tree(branchLen,t):\n",
        "    if branchLen > 5:\n",
        "        t.forward(branchLen)\n",
        "        t.right(20)\n",
        "        tree(branchLen-10,t)\n",
        "        t.left(40)\n",
        "        tree(branchLen-10,t)\n",
        "        t.right(20)\n",
        "        t.backward(branchLen)\n",
        "\n",
        "t.left(70)\n",
        "t.backward(200)\n",
        "tree(75,t)"
      ]
    },
    {
      "cell_type": "markdown",
      "metadata": {
        "id": "sSdapeBIG8p7"
      },
      "source": [
        "## 課題３\n",
        "\n",
        "上記の tree という関数は，tree(75,t) から始まって何回呼ばれている（使われている）でしょうか？\n",
        "\n",
        "### ヒント\n",
        "\n",
        "turtle で渦巻きを描くプログラムでは ```draw_spiral``` は何回呼ばれているでしょうか．\n",
        "１回目は ```draw_spiral(100)``` ですね．この中で ```draw_spiral(95)``` が呼ばれ，その中で ```draw_spiral(90)``` が呼ばれ，．．．．と，どんどんと命令が生成されていきます．どこまで呼ばれるでしょうか？関数の中に ```a>0``` という条件があるので，a が 0 になるまでということになります．つまり，最後は ```draw_spiral(0)``` が呼ばれ，if の処理には入らず ```draw_spiral ``` の呼び出しは終わります．\n",
        "\n",
        "ということで，```100, 95, 90, ..., 0``` の数を数えればよいので，```100/5+1 = 21``` 回呼び出されるということになります．"
      ]
    },
    {
      "cell_type": "markdown",
      "metadata": {
        "id": "Zswr2YGMMDxJ"
      },
      "source": [
        "回答：tree 関数は 255 回呼ばれている．"
      ]
    },
    {
      "cell_type": "markdown",
      "metadata": {
        "id": "WPuTCdT7HH7f"
      },
      "source": [
        "## クイックソート\n",
        "\n",
        "さて，前回の授業で出てきたクイックソートですが，そのフローチャートは以下のようになると紹介しました．\n",
        "\n",
        "![](https://ogilab.kutc.kansai-u.ac.jp/downloads/complang/figs_kadai11/kadai11_02.png)\n",
        "\n",
        "wikipedia の説明にも以下のようにあります．\n",
        "\n",
        "```\n",
        "1. 適当な数（ピボットという）を選択する\n",
        "2. ピボットより小さい数を前方、大きい数を後方に移動させる （分割）\n",
        "3. 二分割された各々のデータを、それぞれソートする\n",
        "```\n",
        "\n",
        "これを別の見方をしてみましょう．\n",
        "\n",
        "```\n",
        "1. 適当な数（ピボットという）を選択する\n",
        "2. ピボットより小さい数を less という袋に入れ、\n",
        "   ピボットより大きい数を more という袋に入れ\n",
        "   ピボットと同じ数を same という袋に入れる\n",
        "3. 二分割された各々の袋の中のデータについて、\n",
        "   袋の中が１つになるまで 1,2 の作業を繰り返す．\n",
        "```\n",
        "\n",
        "この作業を python で実装することを考えてみます．\n",
        "まず，あるリストが与えられた時に，リストの最初の値を基準にして，小さいものは ```less``` というリストに， 大きいものは ```more``` というリストに分けることを考えてみましょう．\n",
        "\n",
        "そのために，前回紹介した append という命令を思い出しましょう．append はリストに要素を付け足してくれる命令です．\n",
        "\n",
        "```python\n",
        ">>> lis = [1,5,3]\n",
        ">>> lis.append(4)\n",
        ">>> lis\n",
        "[1, 5, 3, 4]\n",
        "```\n",
        "\n",
        "この ```append ``` を使うと，3つの袋に分ける処理は以下のように書くことができます．\n"
      ]
    },
    {
      "cell_type": "code",
      "execution_count": 5,
      "metadata": {
        "id": "qIRSVjTDIf-c",
        "colab": {
          "base_uri": "https://localhost:8080/"
        },
        "outputId": "1c68bdbf-941c-4e36-a56d-bfb214d23f5a"
      },
      "outputs": [
        {
          "output_type": "stream",
          "name": "stdout",
          "text": [
            "[1]\n",
            "[6, 4, 8, 5]\n",
            "[3]\n"
          ]
        }
      ],
      "source": [
        "lis = [3,6,1,4,8,5]\n",
        "\n",
        "less = []  # less という空のリストを用意\n",
        "more = []  # more という空のリストを用意\n",
        "same = []  # same という空のリストを用意\n",
        "\n",
        "pivot = lis[0]    # lis の最初の要素を pivot とする\n",
        "\n",
        "for i in lis:   # lis のそれぞれの要素に対して．．．\n",
        "\tif i < pivot:\n",
        "\t\tless.append(i) # 小さいものは less に入れる\n",
        "\telif i> pivot:\n",
        "\t\tmore.append(i) # 大きいものは more に入れる\n",
        "\telse:\n",
        "\t\tsame.append(i) # それ以外（おなじもの）は same に入れる\n",
        "\n",
        "print( less )\n",
        "print( more )\n",
        "print( same )"
      ]
    },
    {
      "cell_type": "markdown",
      "metadata": {
        "id": "NbBbriz-IUh0"
      },
      "source": [
        "さて，これをあるリストを受け取って，less, same, more の順に並び替えたリストを返す関数にしてみましょう．\n",
        "\n",
        "```python\n",
        "\n",
        "def qsort(lis):\n",
        "\tless = []  # less という空のリストを用意\n",
        "\tmore = []  # more という空のリストを用意\n",
        "\tsame = []  # same という空のリストを用意\n",
        "\n",
        "\tpivot = lis[0]    # lis の最初の要素を pivot とする\n",
        "\n",
        "\tfor i in lis:   # lis のそれぞれの要素に対して．．．\n",
        "\t\tif i < pivot:\n",
        "\t\t\tless.append(i)  #小さいものは less へ入れる\n",
        "\t\telif i > pivot:\n",
        "\t\t\tmore.append(i)  #大きいものは more へ入れる\n",
        "\t\telse:\n",
        "\t\t\tsame.append(i)  # 同じものは same へ入れる\n",
        "\n",
        "\treturn less + same + more  # less,same,more の順に並べたリストを返す\n",
        "```\n",
        "\n",
        "さて，less のリストと more のリストのそれぞれについて，同じように基準を設けて大小（同じ）に分けていくという作業を繰り返していけば，最後にはリストの中が１つだけになり，分ける作業をしなくてよくなります．そのときには返されるリストは綺麗に並び終えたものということになります．\n",
        "\n",
        "ここで，「同じ作業を行え」ということで，__再帰__ が登場するのです．「less について並び替えなさい」，「more について並び替えなさい」というところで，自分の関数を呼び出すのです．\n",
        "\n",
        "以下が完全なクイックソートの関数になります．\n",
        "\n",
        "```python\n",
        "def qsort(lis):\n",
        "    less = []\n",
        "    same = []\n",
        "    more = []\n",
        "    if len(lis) <= 1:  # リストの要素が１つだったら，\n",
        "        return lis     # 受け取ったリストをそのまま返す\n",
        "    else:\n",
        "        pivot = lis[0]\n",
        "        for i in lis:\n",
        "            if i < pivot:\n",
        "                less.append(i)\n",
        "            elif i > pivot:\n",
        "                more.append(i)\n",
        "            else:\n",
        "                same.append(i)\n",
        "        less = qsort(less)        # less の中を並び替え\n",
        "        more = qsort(more)     # more の中を並び替え\n",
        "        return less + same + more\n",
        "\n",
        "a = [4, 65, 2, -31, 0, 99, 83, 782, 1]\n",
        "a = qsort(a)\n",
        "\n",
        "```\n",
        "\n",
        "[ここ](http://rosettacode.org/wiki/Sorting_algorithms/Quicksort#Python) には様々な言語によるクイックソートのアルゴリズムの実装が紹介されています．Python の一番短い実装は以下の３行のものです．こんなに短く書けるなんて驚きですね！\n",
        "\n",
        "```python\n",
        "def qsort(L):\n",
        "    if len(L) <= 1: return L\n",
        "    return qsort([lt for lt in L[1:] if lt < L[0]]) + L[0:1] + qsort([ge for ge in L[1:] if ge >= L[0]])\n",
        "```\n",
        "\n",
        "## 課題4（チャレンジ）\n",
        "\n",
        "上の ```[4, 65, 2, -31, 0, 99, 83, 782, 1]```を並び替えるプログラムでは， ```qsort``` は何回呼ばれているでしょうか？\n",
        "\n"
      ]
    },
    {
      "cell_type": "code",
      "execution_count": null,
      "metadata": {
        "id": "lRFEDnJgHIlQ"
      },
      "outputs": [],
      "source": [
        "def qsort(lis):\n",
        "    less = []\n",
        "    same = []\n",
        "    more = []\n",
        "    if len(lis) <= 1:  # リストの要素が１つだったら，\n",
        "        return lis     # 受け取ったリストをそのまま返す\n",
        "    else:\n",
        "        pivot = lis[0]\n",
        "        for i in lis:\n",
        "            if i < pivot:\n",
        "                less.append(i)\n",
        "            elif i > pivot:\n",
        "                more.append(i)\n",
        "            else:\n",
        "                same.append(i)\n",
        "        less = qsort(less)        # less の中を並び替え\n",
        "        more = qsort(more)     # more の中を並び替え\n",
        "        return less + same + more\n",
        "\n",
        "a = [4, 65, 2, -31, 0, 99, 83, 782, 1]\n",
        "a = qsort(a)"
      ]
    },
    {
      "cell_type": "markdown",
      "metadata": {
        "id": "KOtAg8jsL5_N"
      },
      "source": [
        "qsort は 9 回呼ばれている．"
      ]
    },
    {
      "cell_type": "markdown",
      "metadata": {
        "id": "oefraZiOL86K"
      },
      "source": [
        "## 課題提出"
      ]
    },
    {
      "cell_type": "markdown",
      "metadata": {
        "id": "XdhuTnZibuk1"
      },
      "source": [
        "名前：宮本虎昇"
      ]
    },
    {
      "cell_type": "markdown",
      "metadata": {
        "id": "3azRKyzabuk1"
      },
      "source": [
        "学籍番号：情24-0455"
      ]
    },
    {
      "cell_type": "markdown",
      "metadata": {
        "id": "ZyRlGC6sbuk1"
      },
      "source": [
        "感想：実際にカメが動きながら図を描いていくのがとても面白かった。"
      ]
    }
  ],
  "metadata": {
    "colab": {
      "name": "kadai11.ipynb",
      "provenance": []
    },
    "kernelspec": {
      "display_name": "Python 3 (ipykernel)",
      "language": "python",
      "name": "python3"
    },
    "language_info": {
      "codemirror_mode": {
        "name": "ipython",
        "version": 3
      },
      "file_extension": ".py",
      "mimetype": "text/x-python",
      "name": "python",
      "nbconvert_exporter": "python",
      "pygments_lexer": "ipython3",
      "version": "3.11.4"
    }
  },
  "nbformat": 4,
  "nbformat_minor": 0
}